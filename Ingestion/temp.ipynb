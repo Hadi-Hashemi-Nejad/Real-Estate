{
 "cells": [
  {
   "cell_type": "code",
   "execution_count": null,
   "metadata": {},
   "outputs": [],
   "source": [
    "close(\"2024-03-30.parquet\")"
   ]
  },
  {
   "cell_type": "code",
   "execution_count": null,
   "metadata": {},
   "outputs": [],
   "source": [
    "import requests\n",
    "from datetime import date\n",
    "import pandas as pd\n",
    "import pyarrow as pa\n",
    "import pyarrow.parquet as pq\n",
    "\n",
    "class apartment_import_today:\n",
    "    def __init__(self):\n",
    "        self.headers = {\"X-RapidAPI-Key\": \"f70d515e3fmshc7081c7447a5c31p1733e0jsnb81c8ac77ac8\",\n",
    "                                  \"X-RapidAPI-Host\": \"bayut.p.rapidapi.com\"}\n",
    "        self.url = \"https://bayut.p.rapidapi.com/properties/list\"\n",
    "        self.querystring = {\"locationExternalIDs\":\"6901\", #6901 refers to Downtown Dubai\n",
    "                            \"purpose\":\"for-sale\",\n",
    "                            \"hitsPerPage\":\"25\",\"page\":\"0\",\n",
    "                            \"lang\":\"en\",\n",
    "                            \"sort\":\"date-desc\",\n",
    "                            \"categoryExternalID\":\"4\",\n",
    "                            \"priceMax\":\"4000000\",\n",
    "                            \"areaMin\":\"120\",\n",
    "                            \"roomsMin\":\"2\",\"roomsMax\":\"2\"}\n",
    "        self.result = pd.DataFrame()\n",
    "\n",
    "        self.loop_pages_in_requests()\n",
    "        self.save_result()\n",
    "    \n",
    "    def loop_pages_in_requests(self):\n",
    "        '''\n",
    "        Bayut API is paginated (max 25 properties per page). This loops through pages of API for chosen Query \n",
    "        and creates a joined dataframe.\n",
    "        '''\n",
    "        nbPages = int(requests.get(url, headers=self.headers, params=self.querystring).json().get(\"nbPages\"))\n",
    "\n",
    "        for page in range(nbPages):\n",
    "            self.querystring[\"page\"] = str(page)\n",
    "            response = requests.get(url, headers=self.headers, params=self.querystring).json()\n",
    "            df = pd.DataFrame(response.get(\"hits\"))\n",
    "            # df = pd.json_normalize(response.get(\"hits\"))\n",
    "            self.result = pd.concat([self.result, df], ignore_index=True)\n",
    "            break\n",
    "        \n",
    "\n",
    "    def save_result(self):\n",
    "        '''\n",
    "        The joined API calls are saved as a parquet file\n",
    "        '''\n",
    "        self.result[\"ownerID\"] = self.result[\"ownerID\"].astype(str) #Some ownerID are not digits. Will need to research\n",
    "        self.result = self.result.drop('extraFields', axis=1) #This column is empty and schema cannot guess type\n",
    "\n",
    "        table = pa.Table.from_pandas(self.result)\n",
    "        pq.write_table(table, str(date.today())+'.parquet')\n",
    "\n"
   ]
  },
  {
   "cell_type": "code",
   "execution_count": null,
   "metadata": {},
   "outputs": [],
   "source": [
    "# apartment_import_today()\n",
    "x = apartment_import_today()"
   ]
  },
  {
   "cell_type": "code",
   "execution_count": null,
   "metadata": {},
   "outputs": [],
   "source": [
    "x.loop_pages_in_requests()"
   ]
  },
  {
   "cell_type": "code",
   "execution_count": null,
   "metadata": {},
   "outputs": [],
   "source": [
    "x.save_result()"
   ]
  },
  {
   "cell_type": "code",
   "execution_count": null,
   "metadata": {},
   "outputs": [],
   "source": [
    "pd.read_parquet('2024-03-30.parquet', engine='pyarrow')"
   ]
  },
  {
   "cell_type": "code",
   "execution_count": null,
   "metadata": {},
   "outputs": [],
   "source": [
    "y = response.json().get(\"hits\")[0]"
   ]
  },
  {
   "cell_type": "code",
   "execution_count": null,
   "metadata": {},
   "outputs": [],
   "source": [
    "\n",
    "url = \"https://bayut.p.rapidapi.com/auto-complete\"\n",
    "\n",
    "querystring = {\"query\":\"Downtown\",\n",
    "               \"hitsPerPage\":\"25\",\"page\":\"0\",\n",
    "               \"lang\":\"en\"}\n",
    "\n",
    "headers = {\n",
    "\t\"X-RapidAPI-Key\": \"f70d515e3fmshc7081c7447a5c31p1733e0jsnb81c8ac77ac8\",\n",
    "\t\"X-RapidAPI-Host\": \"bayut.p.rapidapi.com\"\n",
    "}\n",
    "\n",
    "auto_response = requests.get(url, headers=headers, params=querystring)"
   ]
  },
  {
   "cell_type": "code",
   "execution_count": null,
   "metadata": {},
   "outputs": [],
   "source": [
    "keys = [\"id\",\"level\",\"externalID\",\"name\"]\n",
    "\n",
    "for hit in auto_response.json().get(\"hits\"):\n",
    "    print(\"\\n %s - externalID: %s - levels: %s\" %(hit.get(\"name\"),hit.get(\"externalID\"),hit.get(\"level\")))\n",
    "    for level in hit.get(\"hierarchy\"):\n",
    "        print(list( map(level.get, keys)))"
   ]
  },
  {
   "cell_type": "code",
   "execution_count": null,
   "metadata": {},
   "outputs": [],
   "source": [
    "for key, value in auto_response.json().items():\n",
    "    print(key + ':', value)"
   ]
  },
  {
   "cell_type": "code",
   "execution_count": null,
   "metadata": {},
   "outputs": [],
   "source": [
    "for key, value in auto_response.json().get(\"hits\")[3].items():\n",
    "    print(key + ':', value)"
   ]
  },
  {
   "cell_type": "code",
   "execution_count": null,
   "metadata": {},
   "outputs": [],
   "source": [
    "url = \"https://bayut.p.rapidapi.com/properties/list\"\n",
    "\n",
    "querystring = {\"locationExternalIDs\":\"6901\",\n",
    "               \"purpose\":\"for-sale\",\n",
    "               \"hitsPerPage\":\"25\",\"page\":\"0\",\n",
    "               \"lang\":\"en\",\n",
    "               \"sort\":\"date-desc\",\n",
    "               \"categoryExternalID\":\"4\",\n",
    "               \"priceMin\":\"3000000\",\"priceMax\":\"4000000\",\n",
    "               \"areaMin\":\"120\",\n",
    "               \"roomsMin\":\"2\",\"roomsMax\":\"2\"}\n",
    "\n",
    "headers = {\n",
    "\t\"X-RapidAPI-Key\": \"f70d515e3fmshc7081c7447a5c31p1733e0jsnb81c8ac77ac8\",\n",
    "\t\"X-RapidAPI-Host\": \"bayut.p.rapidapi.com\"\n",
    "}\n",
    "\n",
    "response = requests.get(url, headers=headers, params=querystring)\n"
   ]
  },
  {
   "cell_type": "code",
   "execution_count": null,
   "metadata": {},
   "outputs": [],
   "source": [
    "for key, value in response.json().items():\n",
    "    print(key + ':', value)"
   ]
  },
  {
   "cell_type": "code",
   "execution_count": null,
   "metadata": {},
   "outputs": [],
   "source": [
    "for key, value in response.json().get(\"hits\")[6].items():\n",
    "    print(key + ':', value)"
   ]
  },
  {
   "cell_type": "code",
   "execution_count": null,
   "metadata": {},
   "outputs": [],
   "source": [
    "keys = [\"level\",\"externalID\",\"name\"]\n",
    "for hit in response.json().get(\"hits\"):\n",
    "    print(\"\\n\")\n",
    "    for x in range(2,len(hit.get(\"location\"))):\n",
    "        item = hit.get(\"location\")[x]\n",
    "        print(list( map(item.get, keys)))"
   ]
  },
  {
   "cell_type": "code",
   "execution_count": null,
   "metadata": {},
   "outputs": [],
   "source": [
    "x = response.json().get(\"hits\")[0].get(\"updatedAt\")\n",
    "print(datetime.fromtimestamp(x).strftime('%Y-%m-%d %H:%M:%S'))"
   ]
  },
  {
   "cell_type": "code",
   "execution_count": null,
   "metadata": {},
   "outputs": [],
   "source": [
    "x = response.json().get(\"hits\")[24].get(\"updatedAt\")\n",
    "print(datetime.fromtimestamp(x).strftime('%Y-%m-%d %H:%M:%S'))"
   ]
  },
  {
   "cell_type": "code",
   "execution_count": null,
   "metadata": {},
   "outputs": [],
   "source": [
    "x = response2.json().get(\"hits\")[0].get(\"updatedAt\")\n",
    "print(datetime.fromtimestamp(x).strftime('%Y-%m-%d %H:%M:%S'))"
   ]
  },
  {
   "cell_type": "code",
   "execution_count": null,
   "metadata": {},
   "outputs": [],
   "source": [
    "x = response2.json().get(\"hits\")[24].get(\"createdAt\")\n",
    "print(datetime.fromtimestamp(x).strftime('%Y-%m-%d %H:%M:%S'))\n"
   ]
  },
  {
   "cell_type": "code",
   "execution_count": null,
   "metadata": {},
   "outputs": [],
   "source": [
    "for hit in response.json().get(\"hits\"):\n",
    "    createdAt = str(datetime.fromtimestamp(hit.get(\"createdAt\")).strftime('%Y-%m-%d %H:%M:%S'))\n",
    "    updatedAt = str(datetime.fromtimestamp(hit.get(\"updatedAt\")).strftime('%Y-%m-%d %H:%M:%S'))\n",
    "    reactivatedAt = str(datetime.fromtimestamp(hit.get(\"reactivatedAt\")).strftime('%Y-%m-%d %H:%M:%S'))\n",
    "\n",
    "    print(\"created: %s - updated: %s - reactivated: %s \" %(createdAt, updatedAt, reactivatedAt))"
   ]
  },
  {
   "cell_type": "code",
   "execution_count": null,
   "metadata": {},
   "outputs": [],
   "source": [
    "response.json().get(\"hits\")[2]"
   ]
  },
  {
   "cell_type": "code",
   "execution_count": null,
   "metadata": {},
   "outputs": [],
   "source": [
    "import pandas as pd\n",
    "\n",
    "df = pd.json_normalize(response.json().get(\"hits\"))"
   ]
  },
  {
   "cell_type": "code",
   "execution_count": null,
   "metadata": {},
   "outputs": [],
   "source": [
    "# df_2 = pd.json_normalize(response.json().get(\"hits\"),\n",
    "#                          record_path=[\"location\",\"category\"],\n",
    "#                          meta=[\"\"])\n",
    "\n",
    "df_2 = pd.json_normalize(response.json().get(\"hits\"),\n",
    "                         meta=[[\"location\",\"id\"]])"
   ]
  },
  {
   "cell_type": "code",
   "execution_count": null,
   "metadata": {},
   "outputs": [],
   "source": []
  }
 ],
 "metadata": {
  "kernelspec": {
   "display_name": "Python 3",
   "language": "python",
   "name": "python3"
  },
  "language_info": {
   "codemirror_mode": {
    "name": "ipython",
    "version": 3
   },
   "file_extension": ".py",
   "mimetype": "text/x-python",
   "name": "python",
   "nbconvert_exporter": "python",
   "pygments_lexer": "ipython3",
   "version": "3.12.2"
  }
 },
 "nbformat": 4,
 "nbformat_minor": 2
}
