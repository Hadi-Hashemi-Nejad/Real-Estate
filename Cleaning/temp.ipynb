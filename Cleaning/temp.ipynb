{
 "cells": [
  {
   "cell_type": "code",
   "execution_count": 3,
   "metadata": {},
   "outputs": [],
   "source": [
    "import boto3\n",
    "import json\n",
    "from pyspark.sql import SparkSession\n",
    "from pyspark.sql.functions import *\n",
    "from pyspark.sql.types import *\n",
    "import datetime\n",
    "import pandas as pd\n",
    "pd.set_option('display.max_columns', None)\n",
    "import statistics\n",
    "import requests\n",
    "from bs4 import BeautifulSoup"
   ]
  },
  {
   "cell_type": "code",
   "execution_count": 4,
   "metadata": {},
   "outputs": [
    {
     "name": "stdout",
     "output_type": "stream",
     "text": [
      "Real-Estate/input/\n",
      "Real-Estate/input/2024-04-19_6901.parquet.gzip\n",
      "Real-Estate/input/2024-04-30_6901.parquet.gzip\n"
     ]
    }
   ],
   "source": [
    "with open(\"AWS_credentials.txt\", \"r\") as creds:\n",
    "    creds_list = json.loads(creds.read())\n",
    "s3 = boto3.resource('s3', aws_access_key_id=creds_list[0], aws_secret_access_key=creds_list[1])\n",
    "my_bucket = s3.Bucket('hadis-s3-project-bucket')\n",
    "for object_summary in my_bucket.objects.filter(Prefix=\"Real-Estate/input/\"):\n",
    "    print(object_summary.key)"
   ]
  },
  {
   "cell_type": "code",
   "execution_count": null,
   "metadata": {},
   "outputs": [],
   "source": [
    "my_bucket.download_file(\"Real-Estate/input/2024-04-30_6901.parquet.gzip\", \"2024-04-30_6901.parquet.gzip\")"
   ]
  },
  {
   "cell_type": "code",
   "execution_count": 5,
   "metadata": {},
   "outputs": [
    {
     "name": "stdout",
     "output_type": "stream",
     "text": [
      "[]\n"
     ]
    }
   ],
   "source": [
    "my_spark = SparkSession.builder.getOrCreate()\n",
    "print(my_spark.catalog.listTables())"
   ]
  },
  {
   "cell_type": "code",
   "execution_count": 8,
   "metadata": {},
   "outputs": [
    {
     "name": "stdout",
     "output_type": "stream",
     "text": [
      "+---------+-------------------+-------------------+-------------------+-----+-----+------------------+--------------------+--------------------+----------------+------------------+-------+-----+--------------+----------------+---------------+--------------------+-------------+------------+-------------+-------------+\n",
      "|    price|          createdAt|          updatedAt|      reactivatedAt|rooms|baths|              area|         contactName|              agency|furnishingStatus|  completionStatus|country| city|  neighborhood|sub_neighborhood|building_series|       building_name| phone_number|    whatsapp|geography_lat|geography_lng|\n",
      "+---------+-------------------+-------------------+-------------------+-----+-----+------------------+--------------------+--------------------+----------------+------------------+-------+-----+--------------+----------------+---------------+--------------------+-------------+------------+-------------+-------------+\n",
      "|3929989.0|2024-04-26 11:54:27|2024-04-30 18:04:02|2024-04-26 11:54:27|    2|    3|1389.9986548358402| Muhammad Atif Hayat|fäm Properties - ...|     unfurnished|under-construction|    uae|dubai|downtown-dubai|            NULL|           NULL|          25H Heimat| +97144395284|971569551551|       25.191|        55.27|\n",
      "|4000000.0|2024-04-12 16:43:32|2024-04-30 18:03:51|2024-04-12 16:43:32|    2|    3|1448.9985977389438|     Petro Zaychenko|AX CAPITAL Real E...|     unfurnished|under-construction|    uae|dubai|downtown-dubai|            NULL|           NULL|     Imperial Avenue|+971522602642|971545695868|       25.188|       55.274|\n",
      "|3980000.0|2023-11-22 15:16:23|2024-04-30 18:03:43|2023-11-22 15:16:23|    2|    3|  1689.99836451264|      Shady Elashkar|       Gi Properties|     unfurnished|under-construction|    uae|dubai|downtown-dubai|            NULL|           NULL|Exquisite Living ...|+971586620075|971545695868|       25.193|       55.283|\n",
      "|3800000.0|2024-03-04 13:19:12|2024-04-30 18:03:21|2024-03-04 13:19:12|    2|    2|1507.9985406420478|          Olga Kavun|Homes 4 Life Real...|     unfurnished|under-construction|    uae|dubai|downtown-dubai|            NULL|           NULL|     Imperial Avenue|+971545408737|971545695868|       25.188|       55.274|\n",
      "|3700000.0|2024-02-24 14:06:00|2024-04-30 18:03:14|2024-02-24 14:06:00|    2|    3|1409.8486356261217|     Sonika Thakwani| Ray Wood Properties|     unfurnished|under-construction|    uae|dubai|downtown-dubai|            NULL|           NULL|St. Regis The Res...|+971562859555|971545695868|       25.195|       55.271|\n",
      "|3500000.0|2024-01-31 11:41:46|2024-04-30 18:03:14|2024-01-31 11:41:46|    2|    2|1406.9986383841917|Svetlana   Vasilieva|Metropolitan Prem...|     unfurnished|under-construction|    uae|dubai|downtown-dubai|            NULL|           NULL|               Volta|+971522222867|971545695868|       25.197|       55.267|\n",
      "|3947777.0|2024-02-13 11:34:19|2024-04-30 18:03:10|2024-02-13 11:34:19|    2|    3| 1408.998636448704|    Pavel Kharytonau|Metropolitan Prem...|     unfurnished|under-construction|    uae|dubai|downtown-dubai|            NULL|           NULL|St. Regis The Res...|+971529474065|971545695868|       25.195|       55.271|\n",
      "|3900000.0|2024-03-21 15:24:43|2024-04-30 18:01:56|2024-03-21 15:24:43|    2|    2| 1321.268721348885|         Joy El Baba|Provident Real Es...|     unfurnished|under-construction|    uae|dubai|downtown-dubai|            NULL|           NULL|     Imperial Avenue|+971521052203|971545695868|       25.188|       55.274|\n",
      "|3750000.0|2024-02-12 19:11:57|2024-04-30 17:59:20|2024-02-12 19:11:57|    2|    3|1448.9985977389438|     Petro Zaychenko|AX CAPITAL Real E...|     unfurnished|under-construction|    uae|dubai|downtown-dubai|            NULL|           NULL|     Imperial Avenue|+971522602642|971545695868|       25.188|       55.274|\n",
      "|3500000.0|2024-02-15 16:45:42|2024-04-30 17:59:02|2024-02-15 16:45:42|    2|    3|1406.9986383841917|  Adilet Chynystanov|Spring Field Real...|     unfurnished|under-construction|    uae|dubai|downtown-dubai|            NULL|           NULL|               Volta|+971528654007|971545695868|       25.197|       55.267|\n",
      "+---------+-------------------+-------------------+-------------------+-----+-----+------------------+--------------------+--------------------+----------------+------------------+-------+-----+--------------+----------------+---------------+--------------------+-------------+------------+-------------+-------------+\n",
      "only showing top 10 rows\n",
      "\n"
     ]
    }
   ],
   "source": [
    "path = '2024-04-30_6901.parquet.gzip'\n",
    "df = my_spark.read.format('parquet').options(header=True,inferSchema=True).load(path)\n",
    "unreq_cols = [\"productLabel\",\"rentFrequency\",\"projectNumber\",\"title_l1\",\"title_l2\",\"title_l3\",\"coverPhoto\",\"photoCount\",\"videoCount\",\"panoramaCount\",\"randBoostScore\",\"randBoostScore_l1\",\n",
    "              \"randBoostScore_l2\",\"randBoostScore_l3\",\"floorPlanID\",\"amenities_l1\",\"amenities_l2\",\"amenities_l3\",\"indyScore\",\"indyScore_l1\",\"indyScore_l2\",\"indyScore_l3\",\"photoIDs\",\n",
    "              \"coverVideo\",\"slug_l1\",\"slug_l2\",\"slug_l3\",\"category\",\"_highlightResult\",\"id\",\"ownerID\",\"userExternalID\",\"sourceID\",\"state\",\"_geoloc\",\"purpose\",\"product\",\"productScore\",\"referenceNumber\",\n",
    "              \"permitNumber\",\"title\",\"externalID\",\"slug\",\"score\",\"score_l1\",\"score_l2\",\"score_l3\",\"hash\",\"isVerified\",\"verification\",\"veridiedScore\",\"type\",\"ownerAgent\",\"amenities\",\"citylevelScore\",\n",
    "              \"hasMatchingFloorPlans\",\"hidePrice\",\"locationPurposeTier\",\"plotArea\",\"objectID\",\"project\",\"offplanDetails\",\"completionDetails\",\"paymentPlanSummaries\",\"hasTransactionHistory\",\"hasDldBuildingNk\",\n",
    "              \"availabilityStatus\",\"occupancyStatus\",\"keywords\",\"verifiedScore\"]\n",
    "x = datetime.datetime.timestamp(datetime.datetime.now() - datetime.timedelta(days=14))\n",
    "df = df.drop(*unreq_cols).filter((df.createdAt > x) | (df.updatedAt > x))\n",
    "\n",
    "df = df.withColumn(\"createdAt\", to_timestamp(col(\"createdAt\").cast(\"timestamp\"), \"yyyyMMddHHmmSS\"))\n",
    "df = df.withColumn(\"updatedAt\", to_timestamp(col(\"updatedAt\").cast(\"timestamp\"), \"yyyyMMddHHmmSS\"))\n",
    "df = df.withColumn(\"reactivatedAt\", to_timestamp(col(\"reactivatedAt\").cast(\"timestamp\"), \"yyyyMMddHHmmSS\"))\n",
    "\n",
    "df = df.withColumn(\"loc_size\",size(\"location\"))\n",
    "df = df.withColumn(\"country\", lower(col(\"location\")[0][\"name\"]))\n",
    "df = df.withColumn(\"city\", lower(col(\"location\")[1][\"name\"]))\n",
    "df = df.withColumn(\"neighborhood\", lower(col(\"location\")[2][\"name\"]))\n",
    "df = df.withColumn(\"neighborhood\", regexp_replace(col(\"neighborhood\"),\"[\\\\s]\",\"-\"))\n",
    "df = df.withColumn(\"neighborhood\", regexp_replace(col(\"neighborhood\"),\"[\\\\.]\",\"\"))\n",
    "df = df.withColumn('sub_neighborhood', lower(when(col('loc_size') == 6, col(\"location\")[3][\"name\"]).otherwise(lit(None))))\n",
    "df = df.withColumn(\"sub_neighborhood\", regexp_replace(col(\"sub_neighborhood\"),\"[\\\\s]\",\"-\"))\n",
    "df = df.withColumn(\"sub_neighborhood\", regexp_replace(col(\"sub_neighborhood\"),\"[\\\\.]\",\"\"))\n",
    "df = df.withColumn('building_series', lower(when(col('loc_size') >= 5, element_at(col('location'), -2)[\"name\"]).otherwise(lit(None))))\n",
    "df = df.withColumn(\"building_series\", regexp_replace(col(\"building_series\"),\"[\\\\s]\",\"-\"))\n",
    "df = df.withColumn(\"building_series\", regexp_replace(col(\"building_series\"),\"[\\\\.]\",\"\"))\n",
    "df = df.withColumn(\"building_name\", element_at(col('location'), -1)[\"name\"])\n",
    "# df = df.withColumn(\"building_name\", lower(element_at(col('location'), -1)[\"name\"]))\n",
    "# df = df.withColumn(\"building_name\", regexp_replace(col(\"building_name\"),\"[\\\\s]\",\"-\"))\n",
    "# df = df.withColumn(\"building_name\", regexp_replace(col(\"building_name\"),\"[\\\\.]\",\"\"))\n",
    "\n",
    "df = df.drop(\"loc_size\",\"location\")\n",
    "\n",
    "df = df.withColumn(\"phone_number\", col(\"phoneNumber\")[\"mobile\"])\n",
    "df = df.withColumn(\"whatsapp\", col(\"phoneNumber\")[\"whatsapp\"])\n",
    "df = df.drop(\"phoneNumber\")\n",
    "\n",
    "df = df.withColumn(\"agency\", col(\"agency\")[\"name\"])\n",
    "\n",
    "df = df.withColumn(\"geography_lat\",col(\"geography\")[\"lat\"])\n",
    "df = df.withColumn(\"geography_lat\",round(df[\"geography_lat\"],3))\n",
    "df = df.withColumn(\"geography_lng\",col(\"geography\")[\"lng\"])\n",
    "df = df.withColumn(\"geography_lng\",round(df[\"geography_lng\"],3))\n",
    "df = df.drop(\"geography\")\n",
    "\n",
    "df = df.withColumn(\"area\",col(\"area\")*10.7639)\n",
    "\n",
    "df.sort(df.updatedAt.desc()).show(10)"
   ]
  },
  {
   "cell_type": "code",
   "execution_count": 19,
   "metadata": {},
   "outputs": [],
   "source": [
    "def add_listing(units_in_building):\n",
    "    units_in_building = units_in_building.reset_index(drop=True)\n",
    "    listings_cols = [\"price\",\"contactName\",\"agency\",\"phone_number\",\"whatsapp\",\"createdAt\",\"updatedAt\",\"reactivatedAt\"]\n",
    "    listings = {}\n",
    "    for index, unit_in_building in units_in_building.iterrows():\n",
    "        listing = {}\n",
    "        for listing_col in listings_cols:\n",
    "            listing[listing_col] = unit_in_building[listing_col]\n",
    "        listings[\"listing_\"+str(index+1)] = listing\n",
    "    return listings\n"
   ]
  },
  {
   "cell_type": "code",
   "execution_count": 33,
   "metadata": {},
   "outputs": [
    {
     "name": "stderr",
     "output_type": "stream",
     "text": [
      "C:\\Users\\hadi hashemi\\AppData\\Local\\Temp\\ipykernel_19452\\1126055365.py:33: FutureWarning: The behavior of DataFrame concatenation with empty or all-NA entries is deprecated. In a future version, this will no longer exclude empty or all-NA columns when determining the result dtypes. To retain the old behavior, exclude the relevant entries before the concat operation.\n",
      "  pdf_new = pd.concat([pdf_new,new_row],ignore_index=True)\n"
     ]
    },
    {
     "data": {
      "text/html": [
       "<div>\n",
       "<style scoped>\n",
       "    .dataframe tbody tr th:only-of-type {\n",
       "        vertical-align: middle;\n",
       "    }\n",
       "\n",
       "    .dataframe tbody tr th {\n",
       "        vertical-align: top;\n",
       "    }\n",
       "\n",
       "    .dataframe thead th {\n",
       "        text-align: right;\n",
       "    }\n",
       "</style>\n",
       "<table border=\"1\" class=\"dataframe\">\n",
       "  <thead>\n",
       "    <tr style=\"text-align: right;\">\n",
       "      <th></th>\n",
       "      <th>price_avg</th>\n",
       "      <th>rooms</th>\n",
       "      <th>baths</th>\n",
       "      <th>area_avg</th>\n",
       "      <th>furnishingStatus</th>\n",
       "      <th>completionStatus</th>\n",
       "      <th>country</th>\n",
       "      <th>city</th>\n",
       "      <th>neighborhood</th>\n",
       "      <th>sub_neighborhood</th>\n",
       "      <th>building_series</th>\n",
       "      <th>building_name</th>\n",
       "      <th>geography_lat</th>\n",
       "      <th>geography_lng</th>\n",
       "      <th>listings</th>\n",
       "      <th>num_listings</th>\n",
       "    </tr>\n",
       "  </thead>\n",
       "  <tbody>\n",
       "    <tr>\n",
       "      <th>0</th>\n",
       "      <td>3500000.0</td>\n",
       "      <td>2</td>\n",
       "      <td>3</td>\n",
       "      <td>1429.998616</td>\n",
       "      <td>unfurnished</td>\n",
       "      <td>under-construction</td>\n",
       "      <td>uae</td>\n",
       "      <td>dubai</td>\n",
       "      <td>downtown-dubai</td>\n",
       "      <td>None</td>\n",
       "      <td>None</td>\n",
       "      <td>25h-heimat</td>\n",
       "      <td>25.191</td>\n",
       "      <td>55.270</td>\n",
       "      <td>{'listing_1': {'price': 3500000.0, 'contactNam...</td>\n",
       "      <td>1</td>\n",
       "    </tr>\n",
       "    <tr>\n",
       "      <th>1</th>\n",
       "      <td>3929989.0</td>\n",
       "      <td>2</td>\n",
       "      <td>3</td>\n",
       "      <td>1389.998655</td>\n",
       "      <td>unfurnished</td>\n",
       "      <td>under-construction</td>\n",
       "      <td>uae</td>\n",
       "      <td>dubai</td>\n",
       "      <td>downtown-dubai</td>\n",
       "      <td>None</td>\n",
       "      <td>None</td>\n",
       "      <td>25h-heimat</td>\n",
       "      <td>25.191</td>\n",
       "      <td>55.270</td>\n",
       "      <td>{'listing_1': {'price': 3929989.0, 'contactNam...</td>\n",
       "      <td>1</td>\n",
       "    </tr>\n",
       "    <tr>\n",
       "      <th>2</th>\n",
       "      <td>3500000.0</td>\n",
       "      <td>2</td>\n",
       "      <td>2</td>\n",
       "      <td>1349.998694</td>\n",
       "      <td>furnished</td>\n",
       "      <td>completed</td>\n",
       "      <td>uae</td>\n",
       "      <td>dubai</td>\n",
       "      <td>downtown-dubai</td>\n",
       "      <td>None</td>\n",
       "      <td>29-boulevard</td>\n",
       "      <td>29-boulevard-1</td>\n",
       "      <td>25.191</td>\n",
       "      <td>55.273</td>\n",
       "      <td>{'listing_1': {'price': 3500000.0, 'contactNam...</td>\n",
       "      <td>1</td>\n",
       "    </tr>\n",
       "    <tr>\n",
       "      <th>3</th>\n",
       "      <td>3200000.0</td>\n",
       "      <td>2</td>\n",
       "      <td>2</td>\n",
       "      <td>1438.998607</td>\n",
       "      <td>unfurnished</td>\n",
       "      <td>completed</td>\n",
       "      <td>uae</td>\n",
       "      <td>dubai</td>\n",
       "      <td>downtown-dubai</td>\n",
       "      <td>None</td>\n",
       "      <td>29-boulevard</td>\n",
       "      <td>29-boulevard-2</td>\n",
       "      <td>25.192</td>\n",
       "      <td>55.272</td>\n",
       "      <td>{'listing_1': {'price': 3200000.0, 'contactNam...</td>\n",
       "      <td>1</td>\n",
       "    </tr>\n",
       "    <tr>\n",
       "      <th>4</th>\n",
       "      <td>3055000.0</td>\n",
       "      <td>2</td>\n",
       "      <td>3</td>\n",
       "      <td>1404.998640</td>\n",
       "      <td>unfurnished</td>\n",
       "      <td>completed</td>\n",
       "      <td>uae</td>\n",
       "      <td>dubai</td>\n",
       "      <td>downtown-dubai</td>\n",
       "      <td>None</td>\n",
       "      <td>29-boulevard</td>\n",
       "      <td>29-boulevard-2</td>\n",
       "      <td>25.192</td>\n",
       "      <td>55.272</td>\n",
       "      <td>{'listing_1': {'price': 3055000.0, 'contactNam...</td>\n",
       "      <td>1</td>\n",
       "    </tr>\n",
       "  </tbody>\n",
       "</table>\n",
       "</div>"
      ],
      "text/plain": [
       "   price_avg rooms baths     area_avg furnishingStatus    completionStatus  \\\n",
       "0  3500000.0     2     3  1429.998616      unfurnished  under-construction   \n",
       "1  3929989.0     2     3  1389.998655      unfurnished  under-construction   \n",
       "2  3500000.0     2     2  1349.998694        furnished           completed   \n",
       "3  3200000.0     2     2  1438.998607      unfurnished           completed   \n",
       "4  3055000.0     2     3  1404.998640      unfurnished           completed   \n",
       "\n",
       "  country   city    neighborhood sub_neighborhood building_series  \\\n",
       "0     uae  dubai  downtown-dubai             None            None   \n",
       "1     uae  dubai  downtown-dubai             None            None   \n",
       "2     uae  dubai  downtown-dubai             None    29-boulevard   \n",
       "3     uae  dubai  downtown-dubai             None    29-boulevard   \n",
       "4     uae  dubai  downtown-dubai             None    29-boulevard   \n",
       "\n",
       "    building_name  geography_lat  geography_lng  \\\n",
       "0      25h-heimat         25.191         55.270   \n",
       "1      25h-heimat         25.191         55.270   \n",
       "2  29-boulevard-1         25.191         55.273   \n",
       "3  29-boulevard-2         25.192         55.272   \n",
       "4  29-boulevard-2         25.192         55.272   \n",
       "\n",
       "                                            listings num_listings  \n",
       "0  {'listing_1': {'price': 3500000.0, 'contactNam...            1  \n",
       "1  {'listing_1': {'price': 3929989.0, 'contactNam...            1  \n",
       "2  {'listing_1': {'price': 3500000.0, 'contactNam...            1  \n",
       "3  {'listing_1': {'price': 3200000.0, 'contactNam...            1  \n",
       "4  {'listing_1': {'price': 3055000.0, 'contactNam...            1  "
      ]
     },
     "execution_count": 33,
     "metadata": {},
     "output_type": "execute_result"
    }
   ],
   "source": [
    "pdf = df.select(\"*\").toPandas()\n",
    "pdf.sort_values(\"building_name\",inplace = True, ignore_index=True)\n",
    "\n",
    "pdf_new = pd.DataFrame(columns=pdf.columns)\n",
    "pdf_new.rename(columns = {'price':'price_avg', 'area':'area_avg'}, inplace = True)\n",
    "shared_cols = [\"building_name\",\"building_series\",\"sub_neighborhood\",\"neighborhood\",\"furnishingStatus\",\"completionStatus\",\"rooms\",\"baths\",\"geography_lat\",\"geography_lng\",\"city\",\"country\"]\n",
    "pdf_new = pdf_new.drop(columns=[\"createdAt\",\"updatedAt\",\"reactivatedAt\",\"contactName\",\"agency\",\"phone_number\",\"whatsapp\"])\n",
    "pdf_new[\"listings\"] = \"\"\n",
    "pdf_new[\"num_listings\"] = \"\"\n",
    "\n",
    "for units_in_building in pdf.groupby([\"building_name\"]):\n",
    "    units_in_building = units_in_building[1].reset_index(drop=True)\n",
    "\n",
    "    units_range = list(range(len(units_in_building)))\n",
    "    for i in units_range:\n",
    "        similar_listings = [i]\n",
    "        for j in range(i+1,len(units_in_building)):\n",
    "            if (((units_in_building.iloc[j][\"price\"] <= (units_in_building.iloc[i][\"price\"]+200000)) and (units_in_building.iloc[j][\"price\"] >= (units_in_building.iloc[i][\"price\"]-200000))) and\n",
    "                ((units_in_building.iloc[j][\"area\"] <= (units_in_building.iloc[i][\"area\"]+10)) and (units_in_building.iloc[j][\"area\"] >= (units_in_building.iloc[i][\"area\"]-10))) and\n",
    "                (units_in_building.iloc[j][\"furnishingStatus\"] == units_in_building.iloc[i][\"furnishingStatus\"]) and\n",
    "                (units_in_building.iloc[j][\"baths\"] == units_in_building.iloc[i][\"baths\"])):\n",
    "                similar_listings.append(j)\n",
    "                units_range.remove(j)\n",
    "\n",
    "        # new_row = pd.DataFrame()\n",
    "        new_row =  units_in_building.iloc[i:i+1][shared_cols]\n",
    "        new_row[\"price_avg\"] = statistics.mean(units_in_building.iloc[similar_listings][\"price\"])\n",
    "        new_row[\"area_avg\"] = statistics.mean(units_in_building.iloc[similar_listings][\"area\"])\n",
    "        listings = add_listing(units_in_building.iloc[similar_listings])\n",
    "        new_row[\"listings\"] = [listings]\n",
    "        new_row[\"num_listings\"] = len(listings)\n",
    "        \n",
    "        pdf_new = pd.concat([pdf_new,new_row],ignore_index=True)\n",
    "\n",
    "\n",
    "pdf_new.head()"
   ]
  },
  {
   "cell_type": "code",
   "execution_count": 49,
   "metadata": {},
   "outputs": [],
   "source": [
    "def get_url(row):\n",
    "    url = url = \"https://www.bayut.com/property-market-analysis/sale/\"\n",
    "    for url_item in row[[\"city\",\"neighborhood\",\"sub_neighborhood\",\"building_series\",\"building_name\"]]:\n",
    "        if url_item is not None:\n",
    "            url = url + url_item + \"/\"\n",
    "    area = row[\"area_avg\"]*0.092903\n",
    "    if area >= 92.949 and area <= 185.85:\n",
    "        url = url +\"?area_min=92.949&area_max=185.85&beds=\"+str(row[\"rooms\"])\n",
    "    elif area <= 92.949:\n",
    "        url = url +\"?area_max=92.948&beds=\"+str(row[\"rooms\"])\n",
    "    elif area >= 185.851 and area <= 278.752:\n",
    "        url = url +\"?area_min=185.851&area_max=278.752&beds=\"+str(row[\"rooms\"])\n",
    "    elif area >= 278.753 and area <= 371.655:\n",
    "        url = url +\"?area_min=278.753&area_max=371.655&beds=\"+str(row[\"rooms\"])\n",
    "    elif area >= 371.656 and area <= 464.557:\n",
    "        url = url +\"?area_min=371.656&area_max=464.557&beds=\"+str(row[\"rooms\"])\n",
    "    elif area >= 464.558 and area <= 696.813:\n",
    "        url = url +\"?area_min=464.558&area_max=696.813&beds=\"+str(row[\"rooms\"])\n",
    "    elif area >= 696.814 and area <= 929.068:\n",
    "        url = url +\"?area_min=696.814&area_max=929.068&beds=\"+str(row[\"rooms\"])\n",
    "    elif area >= 929.069:\n",
    "        url = url +\"?area_min=929.069&beds=\"+str(row[\"rooms\"])\n",
    "    return url"
   ]
  },
  {
   "cell_type": "code",
   "execution_count": 48,
   "metadata": {},
   "outputs": [],
   "source": [
    "for index, row in pdf_new.iterrows():      \n",
    "    response = requests.get(get_url(row))\n",
    "    break"
   ]
  },
  {
   "cell_type": "code",
   "execution_count": 75,
   "metadata": {},
   "outputs": [],
   "source": [
    "t = pdf_new[pdf_new[\"building_name\"]==\"boulevard-point\"].iloc[0]\n",
    "response = requests.get(get_url(t)).text\n",
    "soup = BeautifulSoup(response, 'html.parser')"
   ]
  },
  {
   "cell_type": "code",
   "execution_count": 151,
   "metadata": {},
   "outputs": [],
   "source": [
    "find = soup.find_all('ul', attrs={\"role\":True})\n"
   ]
  },
  {
   "cell_type": "code",
   "execution_count": 152,
   "metadata": {},
   "outputs": [
    {
     "data": {
      "text/plain": [
       "[]"
      ]
     },
     "execution_count": 152,
     "metadata": {},
     "output_type": "execute_result"
    }
   ],
   "source": [
    "find"
   ]
  },
  {
   "cell_type": "code",
   "execution_count": null,
   "metadata": {},
   "outputs": [],
   "source": []
  }
 ],
 "metadata": {
  "kernelspec": {
   "display_name": "Python 3",
   "language": "python",
   "name": "python3"
  },
  "language_info": {
   "codemirror_mode": {
    "name": "ipython",
    "version": 3
   },
   "file_extension": ".py",
   "mimetype": "text/x-python",
   "name": "python",
   "nbconvert_exporter": "python",
   "pygments_lexer": "ipython3",
   "version": "3.12.3"
  }
 },
 "nbformat": 4,
 "nbformat_minor": 2
}
