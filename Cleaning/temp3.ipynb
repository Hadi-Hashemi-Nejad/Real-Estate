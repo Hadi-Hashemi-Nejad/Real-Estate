{
 "cells": [
  {
   "cell_type": "code",
   "execution_count": 19,
   "metadata": {},
   "outputs": [],
   "source": [
    "import boto3\n",
    "import json\n",
    "from pyspark.sql import SparkSession\n",
    "from pyspark.sql.functions import udf\n",
    "from pyspark.sql.types import StringType\n",
    "import datetime"
   ]
  },
  {
   "cell_type": "code",
   "execution_count": 2,
   "metadata": {},
   "outputs": [],
   "source": [
    "with open(\"AWS_credentials.txt\", \"r\") as creds:\n",
    "    creds_list = json.loads(creds.read())"
   ]
  },
  {
   "cell_type": "code",
   "execution_count": 3,
   "metadata": {},
   "outputs": [],
   "source": [
    "s3 = boto3.resource('s3', aws_access_key_id=creds_list[0], aws_secret_access_key=creds_list[1])\n",
    "my_bucket = s3.Bucket('hadis-s3-project-bucket')"
   ]
  },
  {
   "cell_type": "code",
   "execution_count": 4,
   "metadata": {},
   "outputs": [
    {
     "name": "stdout",
     "output_type": "stream",
     "text": [
      "Real-Estate/input/\n",
      "Real-Estate/input/2024-04-19_6901.parquet.gzip\n",
      "Real-Estate/input/2024-04-30_6901.parquet.gzip\n"
     ]
    }
   ],
   "source": [
    "for object_summary in my_bucket.objects.filter(Prefix=\"Real-Estate/input/\"):\n",
    "    print(object_summary.key)"
   ]
  },
  {
   "cell_type": "code",
   "execution_count": 5,
   "metadata": {},
   "outputs": [],
   "source": [
    "my_bucket.download_file(\"Real-Estate/input/2024-04-30_6901.parquet.gzip\", \"2024-04-30_6901.parquet.gzip\")"
   ]
  },
  {
   "cell_type": "code",
   "execution_count": 6,
   "metadata": {},
   "outputs": [],
   "source": [
    "my_spark = SparkSession.builder.getOrCreate()"
   ]
  },
  {
   "cell_type": "code",
   "execution_count": 7,
   "metadata": {},
   "outputs": [
    {
     "name": "stdout",
     "output_type": "stream",
     "text": [
      "[]\n"
     ]
    }
   ],
   "source": [
    "print(my_spark.catalog.listTables())"
   ]
  },
  {
   "cell_type": "code",
   "execution_count": 68,
   "metadata": {},
   "outputs": [],
   "source": [
    "path = '2024-04-30_6901.parquet.gzip'\n",
    "df = my_spark.read.format('parquet').options(header=True,inferSchema=True).load(path)"
   ]
  },
  {
   "cell_type": "code",
   "execution_count": 69,
   "metadata": {},
   "outputs": [
    {
     "name": "stdout",
     "output_type": "stream",
     "text": [
      "+-------+-------+--------------+--------+------+--------------------+--------------------+--------+---------+--------+------------+------------+-------------+---------------+------------+-------------+--------------------+--------------------+-------------------------------------+--------------------+----------+--------------------+--------------------+--------------------+--------------------+--------------------+--------------------+-------------+-------------+-------------+-----+-----+--------------+-----+--------+--------+--------+--------------------+----------+----------+-------------+--------------------+--------------------+--------------------+-------+--------------------+----------+--------------------+-------------+--------------+-----------------+-----------------+-----------------+-----------+----------------+--------+--------------------+--------------------+--------------------+---------------------------------+--------------------+------------------+--------------+---------+------------+------------+------------+---------------------+--------------------+---------+-------------------+--------+--------+--------------------+--------------+--------------------+--------------------+--------------------+--------------------+---------------------+----------------+------------------+---------------+\n",
      "|     id|ownerID|userExternalID|sourceID| state|             _geoloc|           geography| purpose|    price| product|productLabel|productScore|rentFrequency|referenceNumber|permitNumber|projectNumber|               title|            title_l1|                             title_l2|            title_l3|externalID|                slug|             slug_l1|             slug_l2|             slug_l3|            location|            category|    createdAt|    updatedAt|reactivatedAt|rooms|baths|          area|score|score_l1|score_l2|score_l3|          coverPhoto|photoCount|videoCount|panoramaCount|         phoneNumber|         contactName|              agency|   hash|            keywords|isVerified|        verification|verifiedScore|randBoostScore|randBoostScore_l1|randBoostScore_l2|randBoostScore_l3|floorPlanID|furnishingStatus|    type|          ownerAgent|           amenities|        amenities_l1|                     amenities_l2|        amenities_l3|  completionStatus|cityLevelScore|indyScore|indyScore_l1|indyScore_l2|indyScore_l3|hasMatchingFloorPlans|            photoIDs|hidePrice|locationPurposeTier|plotArea|objectID|    _highlightResult|       project|      offplanDetails|   completionDetails|paymentPlanSummaries|          coverVideo|hasTransactionHistory|hasDldBuildingNk|availabilityStatus|occupancyStatus|\n",
      "+-------+-------+--------------+--------+------+--------------------+--------------------+--------+---------+--------+------------+------------+-------------+---------------+------------+-------------+--------------------+--------------------+-------------------------------------+--------------------+----------+--------------------+--------------------+--------------------+--------------------+--------------------+--------------------+-------------+-------------+-------------+-----+-----+--------------+-----+--------+--------+--------+--------------------+----------+----------+-------------+--------------------+--------------------+--------------------+-------+--------------------+----------+--------------------+-------------+--------------+-----------------+-----------------+-----------------+-----------+----------------+--------+--------------------+--------------------+--------------------+---------------------------------+--------------------+------------------+--------------+---------+------------+------------+------------+---------------------+--------------------+---------+-------------------+--------+--------+--------------------+--------------+--------------------+--------------------+--------------------+--------------------+---------------------+----------------+------------------+---------------+\n",
      "|5897890|1136059|       1136059|       1|active|{25.186943, 55.27...|{25.186943, 55.27...|for-sale|2600000.0| premium|     default|           3|         NULL|      AP513295S|  7119925200|         NULL|2 Bedroom | Notic...|شقة في أبراج ساوث...| 位于迪拜市中心，南岭高楼群，南岭3...|Квартира в Дубай ...|   8929713|2-bedroom-notice-...|2-bedroom-notice-...|2-bedroom-notice-...|2-bedroom-notice-...|[{5001, 1, 0, UAE...|[{1, 1, 0, Reside...|1.714458347E9|1.714483815E9|1.714458347E9|    2|    3|  131.64360768|   75|      75|      75|      75|{172064299, 68279...|        19|         0|            0|{+97144090909, [+...|Better Homes Busi...|{true, NULL, 2021...|b1edaba|[modern, 2 bedroo...|     false|{true, unverified...|            1|           548|              403|              403|              403|    32770.0|     unfurnished|property|{1136059, false, ...|                  []|                  []|                               []|                  []|         completed|             3|      548|         403|         403|         403|                 true|[682793038, 68279...|    false|                  1|    NULL| 5897890|{{{none, [], Bett...|          NULL|                NULL|                NULL|                NULL|                NULL|                 NULL|            NULL|              NULL|           NULL|\n",
      "|5897448|2162631|       2162631|       1|active|{25.191461695441,...|{25.191461695441,...|for-sale|3549000.0| premium|     default|           3|         NULL|      AP565378S|  7118563500|         NULL|Fountain View | V...|شقة في ذا ريزيدين...|位于迪拜市中心，豪华公寓区，八号公...|Квартира в Дубай ...|   8929266|fountain-view-vot...|fountain-view-vot...|fountain-view-vot...|fountain-view-vot...|[{5001, 1, 0, UAE...|[{1, 1, 0, Reside...|1.714429246E9|1.714483936E9|1.714429246E9|    2|    3|   126.8126496|   75|      75|      75|      75|{172056363, 68258...|        25|         0|            0|{+97144090909, [+...|         Salman Vali|{true, NULL, 2021...|da3365f|[فاخرة, mall, دور...|     false|{true, unverified...|            1|           919|              777|              777|              777|    41986.0|     unfurnished|property|{2162631, false, ...|[Balcony or Terra...|[شرفة أو تراس, نظ...|                 [阳台, 中央空调]|[Балкон или терра...|         completed|             3|      919|         777|         777|         777|                 true|[682583589, 68258...|    false|                  1|    NULL| 5897448|{{{none, [], Bett...|          NULL|                NULL|                NULL|                NULL|                NULL|                 NULL|            NULL|              NULL|           NULL|\n",
      "|5897196| 461566|        461566|       1|active|{25.191362, 55.27...|{25.191362, 55.27...|for-sale|3500000.0|     hot|     default|           1|         NULL|  Hamid-29 blvd|  7121227000|         NULL|2BR FURNISHED APT...|شقة في 29 بوليفار...|  位于迪拜市中心，29大道双塔住宅，...|Квартира в Дубай ...|   8928949|2br-furnished-apt...|2br-furnished-apt...|2br-furnished-apt...|2br-furnished-apt...|[{5001, 1, 0, UAE...|[{1, 1, 0, Reside...|1.714413906E9|1.714431914E9|1.714413906E9|    2|    2|    125.419104|   75|      75|      75|      75|{172051751, 68238...|        19|         0|            0|{+971507940218, [...|           Hamid Ali|{true, NULL, 2016...|7df4adf|[مؤثثة, garden, ج...|     false|{false, unverifie...|            2|           870|              728|              728|              728|    33861.0|       furnished|property|{461566, false, H...|[Balcony or Terra...|[شرفة أو تراس, مك...|   [阳台, 烧烤区, 入户大堂, 双...|[Балкон или терра...|         completed|             1|      870|         728|         728|         728|                 true|[682383686, 68238...|    false|                  1|    NULL| 5897196|{{{none, [], Hamp...|          NULL|                NULL|                NULL|                NULL|                NULL|                 NULL|            NULL|              NULL|           NULL|\n",
      "|5896596|2169819|       2169819|       1|active|{25.187985, 55.27...|{25.187985, 55.27...|for-sale|2500000.0| premium|     default|           3|         NULL|  103332-NnbWZU|  7117842415|         NULL|Vacant I Furnishe...|شقة في داماك ميزو...|  位于迪拜市中心，达马克卓越之家 2...|Квартира в Дубай ...|   8928343|vacant-i-furnishe...|vacant-i-furnishe...|vacant-i-furnishe...|vacant-i-furnishe...|[{5001, 1, 0, UAE...|[{1, 1, 0, Reside...|1.714400921E9|1.714431888E9|1.714400921E9|    2|    3|123.1504117632|   75|      75|      75|      75|{172041950, 68231...|        21|         0|            0|{+971545665477, [...|Taklit Gueddou Ch...|{true, NULL, 2023...|8aed337|[بلكونة, مفروش, b...|     false|{true, unverified...|            1|           777|              636|              636|              636|       NULL|       furnished|property|{2169819, false, ...|[Waste Disposal, ...|[مكبّ نفايات, مرك...| [垃圾处理, 急救中心, 服务电梯...|[Утилизация отход...|         completed|             3|      777|         636|         636|         636|                false|[682319445, 68231...|    false|                  1|    NULL| 5896596|{{{none, [], Neo ...|          NULL|                NULL|                NULL|                NULL|                NULL|                 NULL|            NULL|              NULL|           NULL|\n",
      "|5896031| 597183|        597183|       1|active|{25.19167, 55.279...|{25.19167, 55.279...|for-sale|3050000.0|superhot|     default|           0|         NULL|      A1-S-8355|  7118854700|         NULL|Exclusive | Burj ...|شقة في يانسون 5،ي...|位于迪拜市中心，老城区，燕舒公寓，...|Квартира в Дубай ...|   8927775|exclusive-burj-an...|exclusive-burj-an...|exclusive-burj-an...|exclusive-burj-an...|[{5001, 1, 0, UAE...|[{1, 1, 0, Reside...|1.714396741E9|1.714431918E9|1.714396741E9|    2|    3|  128.48490432|   75|      75|      75|      75|{172033513, 68226...|        21|         0|            0|{+971551613741, [...|          Luis Nuñez|{true, NULL, 2014...|f237d04|[balcony, مول, ار...|     false|{true, unverified...|            1|           680|              539|              539|              539|       NULL|     unfurnished|property|{597183, false, L...|[Balcony or Terra...|[شرفة أو تراس, رد...|   [阳台, 入户大堂, 中央空调, ...|[Балкон или терра...|         completed|             1|      680|         539|         539|         539|                 true|[682261283, 68226...|    false|                  1|    NULL| 5896031|{{{none, [], A1 P...|          NULL|                NULL|                NULL|                NULL|                NULL|                 NULL|            NULL|              NULL|           NULL|\n",
      "|5895759|2285987|       2285987|       1|active|{25.196944831991,...|{25.196944831991,...|for-sale|2580000.0| premium|     default|           3|         NULL|    LXF-S-60263|  7121546600|         NULL|Spacious Layout |...|شقة في برج لوفتس ...|      位于迪拜市中心，Loft公寓，Lo...|Квартира в Дубай ...|   8927443|spacious-layout-v...|spacious-layout-v...|spacious-layout-v...|spacious-layout-v...|[{5001, 1, 0, UAE...|[{1, 1, 0, Reside...|1.714394909E9|1.714478574E9|1.714394909E9|    2|    3|  123.83975232|   75|      75|      75|      75|{172028234, 68221...|        11|         0|            0|{+971562018538, [...|        Ross Anthony|{true, NULL, 2019...|a1997a3|[balcony, غسيل, م...|     false|{true, unverified...|            1|           388|              248|              248|              248|       NULL|       furnished|property|{2285987, false, ...|                  []|                  []|                               []|                  []|         completed|             3|      388|         248|         248|         248|                 true|[682219151, 68221...|    false|                  1|    NULL| 5895759|{{{none, [], Luxf...|          NULL|                NULL|                NULL|                NULL|                NULL|                 NULL|            NULL|              NULL|           NULL|\n",
      "|5893228|2099259|       2099259|       1|active|{25.195101326422,...|{25.195101326422,...|for-sale|2300000.0| premium|     default|           3|         NULL|    axc-3976273|  7110216857|         NULL|High Floor | Full...|شقة في التوقيع،وس...|  位于迪拜市中心，招牌酒店式公寓 2...|Квартира в Дубай ...|   8924826|high-floor-fully-...|high-floor-fully-...|high-floor-fully-...|high-floor-fully-...|[{5001, 1, 0, UAE...|[{1, 1, 0, Reside...|1.714378135E9|1.714432145E9|1.714378135E9|    2|    3|  127.46297088|   75|      75|      75|      75|{171987074, 68177...|        23|         0|            0|{+971521949965, [...|       Parmida Azizi|{true, NULL, 2019...|7fd8a31|[ground, ارضية, m...|     false|{true, unverified...|            1|           755|              616|              616|              616|       NULL|       furnished|property|{2099259, false, ...|                  []|                  []|                               []|                  []|         completed|             3|      755|         616|         616|         616|                false|[681772709, 68177...|    false|                  1|    NULL| 5893228|{{{none, [], AX C...|          NULL|                NULL|                NULL|                NULL|                NULL|                 NULL|            NULL|              NULL|           NULL|\n",
      "|5891675|1926807|       1926807|       1|active|{25.191151, 55.28...|{25.191151, 55.28...|for-sale|2200000.0| premium|     default|           3|         NULL|    LXF-S-60197|  7128872400|         NULL|Vacant | Full Bur...|شقة في برج النجوم...|   位于迪拜市中心，努乔姆塔 2 卧室...|Квартира в Дубай ...|   8923207|vacant-full-burj-...|vacant-full-burj-...|vacant-full-burj-...|vacant-full-burj-...|[{5001, 1, 0, UAE...|[{1, 1, 0, Reside...|1.714324997E9|1.714345396E9|1.714324997E9|    2|    3|  140.00488128|   75|      75|      75|      75|{171960523, 68121...|        13|         0|            0|{+971585303711, [...|        Cameron Heer|{true, NULL, 2019...|bf9597f|[دور, 2 bedroom, ...|     false|{true, unverified...|            1|           800|              666|              666|              666|    26828.0|     unfurnished|property|{1926807, false, ...|[Balcony or Terrace]|      [شرفة أو تراس]|                           [阳台]|[Балкон или терраса]|         completed|             3|      800|         666|         666|         666|                 true|[681210032, 68121...|    false|                  1|    NULL| 5891675|{{{none, [], Luxf...|          NULL|                NULL|                NULL|                NULL|                NULL|                 NULL|            NULL|              NULL|           NULL|\n",
      "|5891396|2178783|       2178783|       1|active|{25.197421810246,...|{25.197421810246,...|for-sale|3400000.0| premium|     default|           3|         NULL|    9268-bmvxvy|  1875048842|         NULL|High Floor ‖ Amaz...|طابق مرتفع ‖ وسائ...|   位于迪拜市中心，沃尔塔 2 卧室的...|Квартира в Дубай ...|   8922911|high-floor-amazin...|high-floor-amazin...|high-floor-amazin...|high-floor-amazin...|[{5001, 1, 0, UAE...|[{1, 1, 0, Reside...|1.714313331E9|1.714345846E9|1.714313331E9|    2|    3|  129.78554688|   75|      75|      75|      75|{171955896, 68117...|        23|         0|            0|{+971561765537, [...|      Ibrahem Dayoub|{true, NULL, 2019...|13ed471|[جديدة, دور, ايجا...|     false|{false, unverifie...|            2|           657|              657|              523|              523|       NULL|     unfurnished|property|{2178783, false, ...|[Gym or Health Cl...|[صالة رياضية أو ن...| [健身房或健身俱乐部, 祈祷室, ...|[Тренажерный зал ...|under-construction|             3|      657|         657|         523|         523|                false|[681170602, 68117...|    false|                  1|    NULL| 5891396|{{{none, [], Daar...|{847, 5872213}|{NULL, NULL, NULL...|{1.8379728E9, NUL...|[{{20, 20, NULL, ...|                NULL|                 NULL|            NULL|              NULL|           NULL|\n",
      "|5888312| 757099|        757099|       1|active|{25.193357636539,...|{25.193357636539,...|for-sale|3984000.0| premium|     default|           3|         NULL|    GHZL-cuMsI8| 71540546456|         NULL|Volta by DAMAC, D...|شقة في وسط مدينة ...|     位于迪拜市中心 2 卧室的公寓 3...|Квартира в Дубай ...|   8919569|volta-by-damac-do...|volta-by-damac-do...|volta-by-damac-do...|volta-by-damac-do...|[{5001, 1, 0, UAE...|[{1, 1, 0, Reside...|1.714222917E9|1.714480247E9|1.714222917E9|    2|    3|133.8398355456|   75|      75|      75|      75|{171905611, 68048...|        13|         0|            0|{+971564545530, [...|Noor Seddiqi Real...|{true, NULL, 2024...|ba1faa1|[new, فاخرة, مول,...|     false|{false, unverifie...|            2|           362|              233|              233|              233|       NULL|       furnished|property|{757099, false, N...|[Completion Year,...|[سنة إتمام مشروع,...|   [建成年份, 阳台, 会议室, 对...|[Год завершения, ...|under-construction|             3|      362|         233|         233|         233|                false|[680480844, 68048...|    false|                  1|    NULL| 5888312|{{{none, [], Noor...| {60, 5871626}|{NULL, NULL, NULL...|                NULL|                NULL|                NULL|                 NULL|            NULL|              NULL|           NULL|\n",
      "|5888287| 757099|        757099|       1|active|{25.193357636539,...|{25.193357636539,...|for-sale|3984000.0| premium|     default|           3|         NULL|    GHZL-ZCNZWy| 71540546456|         NULL|Volta by DAMAC, D...|شقة في وسط مدينة ...|     位于迪拜市中心 2 卧室的公寓 3...|Квартира в Дубай ...|   8919535|volta-by-damac-do...|volta-by-damac-do...|volta-by-damac-do...|volta-by-damac-do...|[{5001, 1, 0, UAE...|[{1, 1, 0, Reside...|1.714222492E9| 1.71448025E9|1.714222492E9|    2|    3|133.8398355456|   75|      75|      75|      75|{171905064, 68047...|        14|         0|            0|{+971564545530, [...|Noor Seddiqi Real...|{true, NULL, 2024...|3964f3d|[new, جديدة, فاخر...|     false|{false, unverifie...|            2|           376|              247|              247|              247|       NULL|       furnished|property|{757099, false, N...|[Completion Year,...|[سنة إتمام مشروع,...|   [建成年份, 阳台, 烧烤区, 入...|[Год завершения, ...|under-construction|             3|      376|         247|         247|         247|                false|[680479370, 68047...|    false|                  1|    NULL| 5888287|{{{none, [], Noor...| {60, 5871626}|{NULL, NULL, NULL...|                NULL|                NULL|                NULL|                 NULL|            NULL|              NULL|           NULL|\n",
      "|5888295| 757099|        757099|       1|active|{25.193357636539,...|{25.193357636539,...|for-sale|3984000.0| premium|     default|           3|         NULL|    GHZL-IuPkow| 71540546456|         NULL|Volta by DAMAC, D...|شقة في وسط مدينة ...|     位于迪拜市中心 2 卧室的公寓 3...|Квартира в Дубай ...|   8919503|volta-by-damac-do...|volta-by-damac-do...|volta-by-damac-do...|volta-by-damac-do...|[{5001, 1, 0, UAE...|[{1, 1, 0, Reside...|1.714222166E9|1.714480253E9|1.714222166E9|    2|    3|133.8398355456|   75|      75|      75|      75|{171904586, 68048...|        13|         0|            0|{+971564545530, [...|Noor Seddiqi Real...|{true, NULL, 2024...|fe0cd9f|[new, جديدة, فاخر...|     false|{false, unverifie...|            2|           379|              250|              250|              250|       NULL|       furnished|property|{757099, false, N...|[Conference Room,...|[غرفة اجتماعات, ج...| [会议室, 按摩浴缸, 儿童娱乐区...|[Конференц-зал, Д...|under-construction|             3|      379|         250|         250|         250|                false|[680480009, 68048...|    false|                  1|    NULL| 5888295|{{{none, [], Noor...| {60, 5871626}|{NULL, NULL, NULL...|                NULL|                NULL|                NULL|                 NULL|            NULL|              NULL|           NULL|\n",
      "|5888389| 757099|        757099|       1|active|{25.193357636539,...|{25.193357636539,...|for-sale|3984000.0| premium|     default|           3|         NULL|    GHZL-W5TZ4r| 71540546456|         NULL|Volta by DAMAC, D...|شقة في وسط مدينة ...|     位于迪拜市中心 2 卧室的公寓 3...|Квартира в Дубай ...|   8919465|volta-by-damac-do...|volta-by-damac-do...|volta-by-damac-do...|volta-by-damac-do...|[{5001, 1, 0, UAE...|[{1, 1, 0, Reside...|1.714221725E9|1.714480256E9|1.714221725E9|    2|    3|133.8398355456|   75|      75|      75|      75|{171903965, 68048...|        14|         0|            0|{+971564545530, [...|Noor Seddiqi Real...|{true, NULL, 2024...|6341b39|[mall, جديدة, فاخ...|     false|{false, unverifie...|            2|           375|              247|              247|              247|       NULL|       furnished|property|{757099, false, N...|[Gym or Health Cl...|[صالة رياضية أو ن...|[健身房或健身俱乐部, 宽带网络,...|[Тренажерный зал ...|under-construction|             3|      375|         247|         247|         247|                false|[680487655, 68048...|    false|                  1|    NULL| 5888389|{{{none, [], Noor...| {60, 5871626}|{NULL, NULL, NULL...|                NULL|                NULL|                NULL|                 NULL|            NULL|              NULL|           NULL|\n",
      "|5886699|2220265|       2220265|       1|active|{25.198443, 55.27...|{25.198443, 55.27...|for-sale|3700000.0| premium|     default|           3|         NULL|   thre-8410599|  7117731176|         NULL|SPLENDID INTERIOR...|شقة في برج فيستا ...| 位于迪拜市中心，景观高塔，景观1号...|Квартира в Дубай ...|   8917753|splendid-interior...|splendid-interior...|splendid-interior...|splendid-interior...|[{5001, 1, 0, UAE...|[{1, 1, 0, Reside...| 1.71420644E9|1.714259175E9| 1.71420644E9|    2|    2|  129.32103168|   75|      75|      75|      75|{171878401, 68027...|        23|         0|            0|{+971585946509, [...|       Nabeel Shaikh|{true, NULL, 2022...|1d18843|[furnished, مفروش...|     false|{true, unverified...|            1|           758|              629|              629|              629|       NULL|       furnished|property|{2220265, false, ...|                  []|                  []|                               []|                  []|         completed|             3|      758|         629|         629|         629|                false|[680270536, 68027...|    false|                  1|    NULL| 5886699|{{{none, [], Tota...|          NULL|                NULL|                NULL|                NULL|                NULL|                 NULL|            NULL|              NULL|           NULL|\n",
      "|5886090| 845051|        845051|       1|active|{25.19236269086, ...|{25.19236269086, ...|for-sale|4000000.0| premium|     default|           3|         NULL|     RNR-S-4489|  7117457641|         NULL|Best Deal | Moder...|شقة في بوليفارد ه...|      位于迪拜市中心，BLVD塔楼，BL...|Квартира в Дубай ...|   8917050|best-deal-modern-...|best-deal-modern-...|best-deal-modern-...|best-deal-modern-...|[{5001, 1, 0, UAE...|[{1, 1, 0, Reside...|1.714200702E9|1.714483246E9|1.714200702E9|    2|    3|154.1995367616|   75|      75|      75|      75|{171867405, 68013...|        12|         0|            0|{+971559774932, [...|Rakesh Mirchandan...|{true, NULL, 2015...|0759d51|[غرفتين, مودرن, م...|     false|{true, unverified...|            1|           733|              606|              606|              606|    31644.0|     unfurnished|property|{845051, false, R...|[View, Balcony or...|[مطل, شرفة أو ترا...|   [景观, 阳台, 入户大堂, 双层...|[Вид, Балкон или ...|         completed|             3|      733|         606|         606|         606|                 true|[680130129, 68013...|    false|                  1|    NULL| 5886090|{{{none, [], RNR ...|          NULL|                NULL|                NULL|                NULL|                NULL|                 NULL|            NULL|              NULL|           NULL|\n",
      "|5886173| 757099|        757099|       1|active|{25.197421810246,...|{25.197421810246,...|for-sale|3984000.0| premium|     default|           3|         NULL|ZN104216-zsIR0H| 71540546456|         NULL|Stunning 2BR | Do...|شقة في فولتا،وسط ...|   位于迪拜市中心，沃尔塔 2 卧室的...|Квартира в Дубай ...|   8916920|stunning-2br-down...|stunning-2br-down...|stunning-2br-down...|stunning-2br-down...|[{5001, 1, 0, UAE...|[{1, 1, 0, Reside...|1.714198837E9|1.714485502E9|1.714198837E9|    2|    3|133.8398355456|   75|      75|      75|      75|{171865491, 68017...|        19|         0|            0|{+971564545530, [...|Noor Seddiqi Real...|{true, NULL, 2024...|6b17989|[2 bedroom, 2 غرف...|      true|{true, verified, ...|            0|           371|              244|              244|              244|       NULL|     unfurnished|property|{757099, false, N...|[Total Floors, Co...|[عدد الطوابق, سنة...|   [全部楼层, 建成年份, 景观, ...|[Всего этажей, Го...|under-construction|             3|      371|         244|         244|         244|                false|[680170324, 68017...|    false|                  1|    NULL| 5886173|{{{none, [], Noor...|{847, 5872213}|{NULL, NULL, NULL...|{1.8379728E9, NUL...|[{{20, 20, NULL, ...|                NULL|                 NULL|            NULL|              NULL|           NULL|\n",
      "|5883259|2237634|       2237634|       1|active|{25.190634, 55.27...|{25.190634, 55.27...|for-sale|3100000.0| premium|     default|           3|         NULL|    axc-3975817|  7130328214|         NULL|Spacious 2 BR | F...|شقة في برج بهوان،...|   位于迪拜市中心，巴湾塔 2 卧室的...|Квартира в Дубай ...|   8914208|spacious-2-br-ful...|spacious-2-br-ful...|spacious-2-br-ful...|spacious-2-br-ful...|[{5001, 1, 0, UAE...|[{1, 1, 0, Reside...|1.714129655E9|1.714373021E9|1.714129655E9|    2|    3|  140.19068736|   75|      75|      75|      75|{171822388, 67937...|        25|         1|            0|{+971521233093, [...|      Alina Kovalova|{true, NULL, 2019...|6f8af09|[modern, مفروش, م...|     false|{true, unverified...|            1|           785|              659|              659|              659|    22873.0|       furnished|property|{2237634, false, ...|[View, Balcony or...|[مطل, شرفة أو ترا...|   [景观, 阳台, 中央空调, 中央...|[Вид, Балкон или ...|         completed|             3|      785|         659|         659|         659|                 true|[679372124, 67937...|    false|                  1|    NULL| 5883259|{{{none, [], AX C...|          NULL|                NULL|                NULL|                NULL|{558072, youtube,...|                 NULL|            NULL|              NULL|           NULL|\n",
      "|5882497|2182282|       2182282|       1|active|{25.189083, 55.27...|{25.189083, 55.27...|for-sale|3500000.0|superhot|     default|           0|         NULL|     DB-S-45461|  7122014900|         NULL|Private Garden | ...|شقة في زنجبيل 1،ز...|位于迪拜市中心，老城区，赞兹贝尔公...|Квартира в Дубай ...|   8913400|private-garden-pr...|private-garden-pr...|private-garden-pr...|private-garden-pr...|[{5001, 1, 0, UAE...|[{1, 1, 0, Reside...|1.714123279E9|1.714397194E9|1.714123279E9|    2|    3|  122.26040064|   75|      75|      75|      75|{171810773, 67927...|        20|         0|            0|{+971565585898, [...|Sarmad Ali Abdulh...|{true, NULL, 2017...|c76d262|[mall, garden, دو...|      true|{true, verified, ...|            0|           720|              596|              596|              596|       NULL|     unfurnished|property|{2182282, false, ...|[Balcony or Terra...|[شرفة أو تراس, نظ...|   [阳台, 中央空调, 中央供暖, ...|[Балкон или терра...|         completed|             1|      720|         596|         596|         596|                false|[679273017, 67927...|    false|                  1|    NULL| 5882497|{{{none, [], D AN...|          NULL|                NULL|                NULL|                NULL|                NULL|                 NULL|            NULL|              NULL|           NULL|\n",
      "|5883954|2080010|       2080010|       1|active|{25.191626, 55.26...|{25.191626, 55.26...|for-sale|3800000.0| premium|     default|           3|         NULL|    AMR-S-052.2| 71100942752|         NULL|Vacant | High Flo...|شقة في برج دي تي ...|      位于迪拜市中心，DT1大厦 2 卧...|Квартира в Дубай ...|   8913305|vacant-high-floor...|vacant-high-floor...|vacant-high-floor...|vacant-high-floor...|[{5001, 1, 0, UAE...|[{1, 1, 0, Reside...| 1.71412254E9| 1.71425919E9| 1.71412254E9|    2|    3|141.8796646272|   75|      75|      75|      75|{171809136, 67949...|        18|         0|            0|{+971525396090, [...|        Aamir Shaikh|{true, NULL, 2019...|8068c90|[دور, 2 bedroom, ...|     false|{true, unverified...|            1|           610|              488|              488|              488|       NULL|     unfurnished|property|{2080010, false, ...|                  []|                  []|                               []|                  []|         completed|             3|      610|         488|         488|         488|                 true|[679498841, 67949...|    false|                  1|    NULL| 5883954|{{{none, [], Mile...|          NULL|                NULL|                NULL|                NULL|                NULL|                 NULL|            NULL|              NULL|           NULL|\n",
      "|5881881|1051867|       1051867|       1|active|{25.190686138461,...|{25.190686138461,...|for-sale|3929989.0| premium|     default|           3|         NULL|    B-AS-108998| 71572291102|         NULL|Exclusive Living ...|شقة في 25H هيمات،...|       位于迪拜市中心，25H 家园 2 ...|Квартира в Дубай ...|   8912720|exclusive-living-...|exclusive-living-...|exclusive-living-...|exclusive-living-...|[{5001, 1, 0, UAE...|[{1, 1, 0, Reside...|1.714118067E9|1.714485842E9|1.714118067E9|    2|    3|   129.1352256|   75|      75|      75|      75|{171800344, 67920...|        16|         0|            0|{+97144395284, [+...| Muhammad Atif Hayat|{true, NULL, 2021...|ce1151d|[spacious, اول سا...|      true|{true, verified, ...|            0|           642|              520|              520|              520|       NULL|     unfurnished|property|{1051867, false, ...|[Balcony or Terrace]|      [شرفة أو تراس]|                           [阳台]|[Балкон или терраса]|under-construction|             3|      642|         520|         520|         520|                false|[679201669, 67920...|    false|                  1|    NULL| 5881881|{{{none, [], fäm ...|{958, 5872330}|{NULL, NULL, NULL...|{1.8301968E9, NUL...|[{{20, 40, NULL, ...|                NULL|                 NULL|            NULL|              NULL|           NULL|\n",
      "+-------+-------+--------------+--------+------+--------------------+--------------------+--------+---------+--------+------------+------------+-------------+---------------+------------+-------------+--------------------+--------------------+-------------------------------------+--------------------+----------+--------------------+--------------------+--------------------+--------------------+--------------------+--------------------+-------------+-------------+-------------+-----+-----+--------------+-----+--------+--------+--------+--------------------+----------+----------+-------------+--------------------+--------------------+--------------------+-------+--------------------+----------+--------------------+-------------+--------------+-----------------+-----------------+-----------------+-----------+----------------+--------+--------------------+--------------------+--------------------+---------------------------------+--------------------+------------------+--------------+---------+------------+------------+------------+---------------------+--------------------+---------+-------------------+--------+--------+--------------------+--------------+--------------------+--------------------+--------------------+--------------------+---------------------+----------------+------------------+---------------+\n",
      "only showing top 20 rows\n",
      "\n"
     ]
    }
   ],
   "source": [
    "df.show()"
   ]
  },
  {
   "cell_type": "code",
   "execution_count": 70,
   "metadata": {},
   "outputs": [],
   "source": [
    "unreq_cols = [\"productLabel\",\"rentFrequency\",\"projectNumber\",\"title_l1\",\"title_l2\",\"title_l3\",\"coverPhoto\",\"photoCount\",\"videoCount\",\"panoramaCount\",\"randBoostScore\",\"randBoostScore_l1\",\n",
    "              \"randBoostScore_l2\",\"randBoostScore_l3\",\"floorPlanID\",\"amenities_l1\",\"amenities_l2\",\"amenities_l3\",\"indyScore\",\"indyScore_l1\",\"indyScore_l2\",\"indyScore_l3\",\"photoIDs\",\n",
    "              \"coverVideo\"]\n",
    "x = datetime.datetime.timestamp(datetime.datetime.now() - datetime.timedelta(days=1))\n",
    "df = df.drop(*unreq_cols).filter((df.createdAt > x) | (df.updatedAt > x))"
   ]
  },
  {
   "cell_type": "code",
   "execution_count": 71,
   "metadata": {},
   "outputs": [
    {
     "name": "stdout",
     "output_type": "stream",
     "text": [
      "+-------+-------+--------------+--------+------+--------------------+--------------------+--------+---------+--------+------------+---------------+------------+--------------------+----------+--------------------+--------------------+--------------------+--------------------+--------------------+--------------------+-------------+-------------+-------------+-----+-----+--------------+-----+--------+--------+--------+--------------------+--------------------+--------------------+-------+--------------------+----------+--------------------+-------------+----------------+--------+--------------------+--------------------+------------------+--------------+---------------------+---------+-------------------+--------+--------+--------------------+--------------+--------------------+--------------------+--------------------+---------------------+----------------+------------------+---------------+\n",
      "|     id|ownerID|userExternalID|sourceID| state|             _geoloc|           geography| purpose|    price| product|productScore|referenceNumber|permitNumber|               title|externalID|                slug|             slug_l1|             slug_l2|             slug_l3|            location|            category|    createdAt|    updatedAt|reactivatedAt|rooms|baths|          area|score|score_l1|score_l2|score_l3|         phoneNumber|         contactName|              agency|   hash|            keywords|isVerified|        verification|verifiedScore|furnishingStatus|    type|          ownerAgent|           amenities|  completionStatus|cityLevelScore|hasMatchingFloorPlans|hidePrice|locationPurposeTier|plotArea|objectID|    _highlightResult|       project|      offplanDetails|   completionDetails|paymentPlanSummaries|hasTransactionHistory|hasDldBuildingNk|availabilityStatus|occupancyStatus|\n",
      "+-------+-------+--------------+--------+------+--------------------+--------------------+--------+---------+--------+------------+---------------+------------+--------------------+----------+--------------------+--------------------+--------------------+--------------------+--------------------+--------------------+-------------+-------------+-------------+-----+-----+--------------+-----+--------+--------+--------+--------------------+--------------------+--------------------+-------+--------------------+----------+--------------------+-------------+----------------+--------+--------------------+--------------------+------------------+--------------+---------------------+---------+-------------------+--------+--------+--------------------+--------------+--------------------+--------------------+--------------------+---------------------+----------------+------------------+---------------+\n",
      "|5897890|1136059|       1136059|       1|active|{25.186943, 55.27...|{25.186943, 55.27...|for-sale|2600000.0| premium|           3|      AP513295S|  7119925200|2 Bedroom | Notic...|   8929713|2-bedroom-notice-...|2-bedroom-notice-...|2-bedroom-notice-...|2-bedroom-notice-...|[{5001, 1, 0, UAE...|[{1, 1, 0, Reside...|1.714458347E9|1.714483815E9|1.714458347E9|    2|    3|  131.64360768|   75|      75|      75|      75|{+97144090909, [+...|Better Homes Busi...|{true, NULL, 2021...|b1edaba|[modern, 2 bedroo...|     false|{true, unverified...|            1|     unfurnished|property|{1136059, false, ...|                  []|         completed|             3|                 true|    false|                  1|    NULL| 5897890|{{{none, [], Bett...|          NULL|                NULL|                NULL|                NULL|                 NULL|            NULL|              NULL|           NULL|\n",
      "|5897448|2162631|       2162631|       1|active|{25.191461695441,...|{25.191461695441,...|for-sale|3549000.0| premium|           3|      AP565378S|  7118563500|Fountain View | V...|   8929266|fountain-view-vot...|fountain-view-vot...|fountain-view-vot...|fountain-view-vot...|[{5001, 1, 0, UAE...|[{1, 1, 0, Reside...|1.714429246E9|1.714483936E9|1.714429246E9|    2|    3|   126.8126496|   75|      75|      75|      75|{+97144090909, [+...|         Salman Vali|{true, NULL, 2021...|da3365f|[فاخرة, mall, دور...|     false|{true, unverified...|            1|     unfurnished|property|{2162631, false, ...|[Balcony or Terra...|         completed|             3|                 true|    false|                  1|    NULL| 5897448|{{{none, [], Bett...|          NULL|                NULL|                NULL|                NULL|                 NULL|            NULL|              NULL|           NULL|\n",
      "|5897196| 461566|        461566|       1|active|{25.191362, 55.27...|{25.191362, 55.27...|for-sale|3500000.0|     hot|           1|  Hamid-29 blvd|  7121227000|2BR FURNISHED APT...|   8928949|2br-furnished-apt...|2br-furnished-apt...|2br-furnished-apt...|2br-furnished-apt...|[{5001, 1, 0, UAE...|[{1, 1, 0, Reside...|1.714413906E9|1.714431914E9|1.714413906E9|    2|    2|    125.419104|   75|      75|      75|      75|{+971507940218, [...|           Hamid Ali|{true, NULL, 2016...|7df4adf|[مؤثثة, garden, ج...|     false|{false, unverifie...|            2|       furnished|property|{461566, false, H...|[Balcony or Terra...|         completed|             1|                 true|    false|                  1|    NULL| 5897196|{{{none, [], Hamp...|          NULL|                NULL|                NULL|                NULL|                 NULL|            NULL|              NULL|           NULL|\n",
      "|5896596|2169819|       2169819|       1|active|{25.187985, 55.27...|{25.187985, 55.27...|for-sale|2500000.0| premium|           3|  103332-NnbWZU|  7117842415|Vacant I Furnishe...|   8928343|vacant-i-furnishe...|vacant-i-furnishe...|vacant-i-furnishe...|vacant-i-furnishe...|[{5001, 1, 0, UAE...|[{1, 1, 0, Reside...|1.714400921E9|1.714431888E9|1.714400921E9|    2|    3|123.1504117632|   75|      75|      75|      75|{+971545665477, [...|Taklit Gueddou Ch...|{true, NULL, 2023...|8aed337|[بلكونة, مفروش, b...|     false|{true, unverified...|            1|       furnished|property|{2169819, false, ...|[Waste Disposal, ...|         completed|             3|                false|    false|                  1|    NULL| 5896596|{{{none, [], Neo ...|          NULL|                NULL|                NULL|                NULL|                 NULL|            NULL|              NULL|           NULL|\n",
      "|5896031| 597183|        597183|       1|active|{25.19167, 55.279...|{25.19167, 55.279...|for-sale|3050000.0|superhot|           0|      A1-S-8355|  7118854700|Exclusive | Burj ...|   8927775|exclusive-burj-an...|exclusive-burj-an...|exclusive-burj-an...|exclusive-burj-an...|[{5001, 1, 0, UAE...|[{1, 1, 0, Reside...|1.714396741E9|1.714431918E9|1.714396741E9|    2|    3|  128.48490432|   75|      75|      75|      75|{+971551613741, [...|          Luis Nuñez|{true, NULL, 2014...|f237d04|[balcony, مول, ار...|     false|{true, unverified...|            1|     unfurnished|property|{597183, false, L...|[Balcony or Terra...|         completed|             1|                 true|    false|                  1|    NULL| 5896031|{{{none, [], A1 P...|          NULL|                NULL|                NULL|                NULL|                 NULL|            NULL|              NULL|           NULL|\n",
      "|5895759|2285987|       2285987|       1|active|{25.196944831991,...|{25.196944831991,...|for-sale|2580000.0| premium|           3|    LXF-S-60263|  7121546600|Spacious Layout |...|   8927443|spacious-layout-v...|spacious-layout-v...|spacious-layout-v...|spacious-layout-v...|[{5001, 1, 0, UAE...|[{1, 1, 0, Reside...|1.714394909E9|1.714478574E9|1.714394909E9|    2|    3|  123.83975232|   75|      75|      75|      75|{+971562018538, [...|        Ross Anthony|{true, NULL, 2019...|a1997a3|[balcony, غسيل, م...|     false|{true, unverified...|            1|       furnished|property|{2285987, false, ...|                  []|         completed|             3|                 true|    false|                  1|    NULL| 5895759|{{{none, [], Luxf...|          NULL|                NULL|                NULL|                NULL|                 NULL|            NULL|              NULL|           NULL|\n",
      "|5893228|2099259|       2099259|       1|active|{25.195101326422,...|{25.195101326422,...|for-sale|2300000.0| premium|           3|    axc-3976273|  7110216857|High Floor | Full...|   8924826|high-floor-fully-...|high-floor-fully-...|high-floor-fully-...|high-floor-fully-...|[{5001, 1, 0, UAE...|[{1, 1, 0, Reside...|1.714378135E9|1.714432145E9|1.714378135E9|    2|    3|  127.46297088|   75|      75|      75|      75|{+971521949965, [...|       Parmida Azizi|{true, NULL, 2019...|7fd8a31|[ground, ارضية, m...|     false|{true, unverified...|            1|       furnished|property|{2099259, false, ...|                  []|         completed|             3|                false|    false|                  1|    NULL| 5893228|{{{none, [], AX C...|          NULL|                NULL|                NULL|                NULL|                 NULL|            NULL|              NULL|           NULL|\n",
      "|5888312| 757099|        757099|       1|active|{25.193357636539,...|{25.193357636539,...|for-sale|3984000.0| premium|           3|    GHZL-cuMsI8| 71540546456|Volta by DAMAC, D...|   8919569|volta-by-damac-do...|volta-by-damac-do...|volta-by-damac-do...|volta-by-damac-do...|[{5001, 1, 0, UAE...|[{1, 1, 0, Reside...|1.714222917E9|1.714480247E9|1.714222917E9|    2|    3|133.8398355456|   75|      75|      75|      75|{+971564545530, [...|Noor Seddiqi Real...|{true, NULL, 2024...|ba1faa1|[new, فاخرة, مول,...|     false|{false, unverifie...|            2|       furnished|property|{757099, false, N...|[Completion Year,...|under-construction|             3|                false|    false|                  1|    NULL| 5888312|{{{none, [], Noor...| {60, 5871626}|{NULL, NULL, NULL...|                NULL|                NULL|                 NULL|            NULL|              NULL|           NULL|\n",
      "|5888287| 757099|        757099|       1|active|{25.193357636539,...|{25.193357636539,...|for-sale|3984000.0| premium|           3|    GHZL-ZCNZWy| 71540546456|Volta by DAMAC, D...|   8919535|volta-by-damac-do...|volta-by-damac-do...|volta-by-damac-do...|volta-by-damac-do...|[{5001, 1, 0, UAE...|[{1, 1, 0, Reside...|1.714222492E9| 1.71448025E9|1.714222492E9|    2|    3|133.8398355456|   75|      75|      75|      75|{+971564545530, [...|Noor Seddiqi Real...|{true, NULL, 2024...|3964f3d|[new, جديدة, فاخر...|     false|{false, unverifie...|            2|       furnished|property|{757099, false, N...|[Completion Year,...|under-construction|             3|                false|    false|                  1|    NULL| 5888287|{{{none, [], Noor...| {60, 5871626}|{NULL, NULL, NULL...|                NULL|                NULL|                 NULL|            NULL|              NULL|           NULL|\n",
      "|5888295| 757099|        757099|       1|active|{25.193357636539,...|{25.193357636539,...|for-sale|3984000.0| premium|           3|    GHZL-IuPkow| 71540546456|Volta by DAMAC, D...|   8919503|volta-by-damac-do...|volta-by-damac-do...|volta-by-damac-do...|volta-by-damac-do...|[{5001, 1, 0, UAE...|[{1, 1, 0, Reside...|1.714222166E9|1.714480253E9|1.714222166E9|    2|    3|133.8398355456|   75|      75|      75|      75|{+971564545530, [...|Noor Seddiqi Real...|{true, NULL, 2024...|fe0cd9f|[new, جديدة, فاخر...|     false|{false, unverifie...|            2|       furnished|property|{757099, false, N...|[Conference Room,...|under-construction|             3|                false|    false|                  1|    NULL| 5888295|{{{none, [], Noor...| {60, 5871626}|{NULL, NULL, NULL...|                NULL|                NULL|                 NULL|            NULL|              NULL|           NULL|\n",
      "|5888389| 757099|        757099|       1|active|{25.193357636539,...|{25.193357636539,...|for-sale|3984000.0| premium|           3|    GHZL-W5TZ4r| 71540546456|Volta by DAMAC, D...|   8919465|volta-by-damac-do...|volta-by-damac-do...|volta-by-damac-do...|volta-by-damac-do...|[{5001, 1, 0, UAE...|[{1, 1, 0, Reside...|1.714221725E9|1.714480256E9|1.714221725E9|    2|    3|133.8398355456|   75|      75|      75|      75|{+971564545530, [...|Noor Seddiqi Real...|{true, NULL, 2024...|6341b39|[mall, جديدة, فاخ...|     false|{false, unverifie...|            2|       furnished|property|{757099, false, N...|[Gym or Health Cl...|under-construction|             3|                false|    false|                  1|    NULL| 5888389|{{{none, [], Noor...| {60, 5871626}|{NULL, NULL, NULL...|                NULL|                NULL|                 NULL|            NULL|              NULL|           NULL|\n",
      "|5886090| 845051|        845051|       1|active|{25.19236269086, ...|{25.19236269086, ...|for-sale|4000000.0| premium|           3|     RNR-S-4489|  7117457641|Best Deal | Moder...|   8917050|best-deal-modern-...|best-deal-modern-...|best-deal-modern-...|best-deal-modern-...|[{5001, 1, 0, UAE...|[{1, 1, 0, Reside...|1.714200702E9|1.714483246E9|1.714200702E9|    2|    3|154.1995367616|   75|      75|      75|      75|{+971559774932, [...|Rakesh Mirchandan...|{true, NULL, 2015...|0759d51|[غرفتين, مودرن, م...|     false|{true, unverified...|            1|     unfurnished|property|{845051, false, R...|[View, Balcony or...|         completed|             3|                 true|    false|                  1|    NULL| 5886090|{{{none, [], RNR ...|          NULL|                NULL|                NULL|                NULL|                 NULL|            NULL|              NULL|           NULL|\n",
      "|5886173| 757099|        757099|       1|active|{25.197421810246,...|{25.197421810246,...|for-sale|3984000.0| premium|           3|ZN104216-zsIR0H| 71540546456|Stunning 2BR | Do...|   8916920|stunning-2br-down...|stunning-2br-down...|stunning-2br-down...|stunning-2br-down...|[{5001, 1, 0, UAE...|[{1, 1, 0, Reside...|1.714198837E9|1.714485502E9|1.714198837E9|    2|    3|133.8398355456|   75|      75|      75|      75|{+971564545530, [...|Noor Seddiqi Real...|{true, NULL, 2024...|6b17989|[2 bedroom, 2 غرف...|      true|{true, verified, ...|            0|     unfurnished|property|{757099, false, N...|[Total Floors, Co...|under-construction|             3|                false|    false|                  1|    NULL| 5886173|{{{none, [], Noor...|{847, 5872213}|{NULL, NULL, NULL...|{1.8379728E9, NUL...|[{{20, 20, NULL, ...|                 NULL|            NULL|              NULL|           NULL|\n",
      "|5881881|1051867|       1051867|       1|active|{25.190686138461,...|{25.190686138461,...|for-sale|3929989.0| premium|           3|    B-AS-108998| 71572291102|Exclusive Living ...|   8912720|exclusive-living-...|exclusive-living-...|exclusive-living-...|exclusive-living-...|[{5001, 1, 0, UAE...|[{1, 1, 0, Reside...|1.714118067E9|1.714485842E9|1.714118067E9|    2|    3|   129.1352256|   75|      75|      75|      75|{+97144395284, [+...| Muhammad Atif Hayat|{true, NULL, 2021...|ce1151d|[spacious, اول سا...|      true|{true, verified, ...|            0|     unfurnished|property|{1051867, false, ...|[Balcony or Terrace]|under-construction|             3|                false|    false|                  1|    NULL| 5881881|{{{none, [], fäm ...|{958, 5872330}|{NULL, NULL, NULL...|{1.8301968E9, NUL...|[{{20, 40, NULL, ...|                 NULL|            NULL|              NULL|           NULL|\n",
      "|5880389|1001624|       1001624|       1|active|{25.187055, 55.27...|{25.187055, 55.27...|for-sale|3099888.0| premium|           3|    B-AS-108885|  7120502200|Well Kept | BURJ ...|   8911020|well-kept-burj-kh...|well-kept-burj-kh...|well-kept-burj-kh...|well-kept-burj-kh...|[{5001, 1, 0, UAE...|[{1, 1, 0, Reside...|1.714056435E9|1.714452335E9|1.714056435E9|    2|    3|   144.9287424|   75|      75|      75|      75|{+97144468943, [+...|         Owais Usman|{true, NULL, 2020...|240fff9|[كبيرة, balcony, ...|     false|{true, unverified...|            1|     unfurnished|property|{1001624, false, ...|[Balcony or Terrace]|         completed|             3|                 true|    false|                  1|    NULL| 5880389|{{{none, [], fäm ...|          NULL|                NULL|                NULL|                NULL|                 NULL|            NULL|              NULL|           NULL|\n",
      "|5869851|1087919|       1087919|       1|active|{25.194829, 55.28...|{25.194829, 55.28...|for-sale|3600000.0| premium|           3|    B-AS-108747|  7123213488|Spacious Layout |...|   8901252|spacious-layout-a...|spacious-layout-a...|spacious-layout-a...|spacious-layout-a...|[{5001, 1, 0, UAE...|[{1, 1, 0, Reside...|  1.7139413E9|1.714452322E9|  1.7139413E9|    2|    3|   163.0448352|   75|      75|      75|      75|{+97148721940, [+...|        Aymon Ansari|{true, NULL, 2020...|818f83a|[ارضية, واسعة, fl...|     false|{true, unverified...|            1|     unfurnished|property|{1087919, false, ...|[Balcony or Terra...|         completed|             3|                 true|    false|                  1|    NULL| 5869851|{{{none, [], fäm ...|          NULL|                NULL|                NULL|                NULL|                 NULL|            NULL|              NULL|           NULL|\n",
      "|5861712|2251852|       2251852|       1|active|{25.191785, 55.27...|{25.191785, 55.27...|for-sale|3350000.0| premium|           3|      SUP171433|  7118691200|Study | Bright | ...|   8892497|study-bright-burj...|study-bright-burj...|study-bright-burj...|study-bright-burj...|[{5001, 1, 0, UAE...|[{1, 1, 0, Reside...|1.713786636E9|1.714475899E9|1.713786636E9|    2|    3|  136.01005056|   75|      75|      75|      75|{+971585134555, [...|       Laith Kalomar|{true, NULL, 2021...|2f41ac9|[balcony, maid, ب...|      true|{true, verified, ...|            0|     unfurnished|property|{2251852, false, ...|[Balcony or Terrace]|         completed|             3|                 true|    false|                  1|    NULL| 5861712|{{{none, [], Alls...|          NULL|                NULL|                NULL|                NULL|                 NULL|            NULL|              NULL|           NULL|\n",
      "|5861731|1889558|       1889558|       1|active|{25.188929, 55.27...|{25.188929, 55.27...|for-sale|3975000.0|superhot|           0|      AP727885S|  7122113900|Immaculate | Larg...|   8892378|immaculate-large-...|immaculate-large-...|immaculate-large-...|immaculate-large-...|[{5001, 1, 0, UAE...|[{1, 1, 0, Reside...| 1.71378627E9|1.714456876E9| 1.71378627E9|    2|    1|  220.83052608|   75|      75|      75|      75|{+97144090911, [+...|George Robert Barker|{true, NULL, 2021...|a92b6bd|[renovated, حديثة...|      true|{true, verified, ...|            0|       furnished|property|{1889558, false, ...|                  []|         completed|             1|                false|    false|                  1|    NULL| 5861731|{{{none, [], Bett...|          NULL|                NULL|                NULL|                NULL|                 NULL|            NULL|              NULL|           NULL|\n",
      "|5839005|2200384|       2200384|       1|active|{25.185712544775,...|{25.185712544775,...|for-sale|2700000.0|     hot|           1|  102469-tr3jTW|  7117941402|Canal View | Read...|   8869958|canal-view-ready-...|canal-view-ready-...|canal-view-ready-...|canal-view-ready-...|[{5001, 1, 0, UAE...|[{1, 1, 0, Reside...|1.713277812E9|1.714462416E9|1.713277812E9|    2|    2|126.9111268224|   75|      75|      75|      75|{+971506857017, [...|       Sofia Purgina|{true, NULL, 2023...|0ba1f1f|[ايجار جديد, floo...|     false|{true, unverified...|            1|            NULL|property|{2200384, false, ...|[Balcony or Terra...|         completed|             1|                false|    false|                  1|    NULL| 5839005|{{{none, [], NF G...|          NULL|                NULL|                NULL|                NULL|                 NULL|            NULL|              NULL|           NULL|\n",
      "|5894435|2027822|       2027822|       1|active|{25.190686138461,...|{25.190686138461,...|for-sale|3500000.0| premium|           3|   10362-jbKtwo|  1335492021|INVESTOR DEAL | H...|   8865026|investor-deal-hig...|investor-deal-hig...|investor-deal-hig...|investor-deal-hig...|[{5001, 1, 0, UAE...|[{1, 1, 0, Reside...| 1.71318286E9|1.714432277E9| 1.71318286E9|    2|    3|   132.8513472|   75|      75|      75|      75|{+971505290181, [...| Shabana Zaheeruddin|{true, NULL, 2021...|aacf08a|[مطبخ, kitchen, m...|     false|{false, unverifie...|            2|     unfurnished|property|{2027822, false, ...|[Barbeque Area, D...|under-construction|             3|                false|    false|                  1|    NULL| 5894435|{{{none, [], Bonn...|{958, 5872330}|                NULL|{1.8301968E9, NUL...|[{{20, 40, NULL, ...|                 NULL|            NULL|              NULL|           NULL|\n",
      "+-------+-------+--------------+--------+------+--------------------+--------------------+--------+---------+--------+------------+---------------+------------+--------------------+----------+--------------------+--------------------+--------------------+--------------------+--------------------+--------------------+-------------+-------------+-------------+-----+-----+--------------+-----+--------+--------+--------+--------------------+--------------------+--------------------+-------+--------------------+----------+--------------------+-------------+----------------+--------+--------------------+--------------------+------------------+--------------+---------------------+---------+-------------------+--------+--------+--------------------+--------------+--------------------+--------------------+--------------------+---------------------+----------------+------------------+---------------+\n",
      "only showing top 20 rows\n",
      "\n"
     ]
    }
   ],
   "source": [
    "df.show()"
   ]
  },
  {
   "cell_type": "code",
   "execution_count": 72,
   "metadata": {},
   "outputs": [],
   "source": [
    "df = df.withColumn(\"createdAt_float\", df[\"createdAt\"].cast(\"float\"))"
   ]
  },
  {
   "cell_type": "code",
   "execution_count": 78,
   "metadata": {},
   "outputs": [
    {
     "name": "stdout",
     "output_type": "stream",
     "text": [
      "+-------+-------+--------------+--------+------+--------------------+--------------------+--------+---------+--------+------------+---------------+------------+--------------------+----------+--------------------+--------------------+--------------------+--------------------+--------------------+--------------------+-------------+-------------+-------------+-----+-----+--------------+-----+--------+--------+--------+--------------------+--------------------+--------------------+-------+--------------------+----------+--------------------+-------------+----------------+--------+--------------------+--------------------+------------------+--------------+---------------------+---------+-------------------+--------+--------+--------------------+--------------+--------------------+--------------------+--------------------+---------------------+----------------+------------------+---------------+---------------+\n",
      "|     id|ownerID|userExternalID|sourceID| state|             _geoloc|           geography| purpose|    price| product|productScore|referenceNumber|permitNumber|               title|externalID|                slug|             slug_l1|             slug_l2|             slug_l3|            location|            category|    createdAt|    updatedAt|reactivatedAt|rooms|baths|          area|score|score_l1|score_l2|score_l3|         phoneNumber|         contactName|              agency|   hash|            keywords|isVerified|        verification|verifiedScore|furnishingStatus|    type|          ownerAgent|           amenities|  completionStatus|cityLevelScore|hasMatchingFloorPlans|hidePrice|locationPurposeTier|plotArea|objectID|    _highlightResult|       project|      offplanDetails|   completionDetails|paymentPlanSummaries|hasTransactionHistory|hasDldBuildingNk|availabilityStatus|occupancyStatus|createdAt_float|\n",
      "+-------+-------+--------------+--------+------+--------------------+--------------------+--------+---------+--------+------------+---------------+------------+--------------------+----------+--------------------+--------------------+--------------------+--------------------+--------------------+--------------------+-------------+-------------+-------------+-----+-----+--------------+-----+--------+--------+--------+--------------------+--------------------+--------------------+-------+--------------------+----------+--------------------+-------------+----------------+--------+--------------------+--------------------+------------------+--------------+---------------------+---------+-------------------+--------+--------+--------------------+--------------+--------------------+--------------------+--------------------+---------------------+----------------+------------------+---------------+---------------+\n",
      "|5897890|1136059|       1136059|       1|active|{25.186943, 55.27...|{25.186943, 55.27...|for-sale|2600000.0| premium|           3|      AP513295S|  7119925200|2 Bedroom | Notic...|   8929713|2-bedroom-notice-...|2-bedroom-notice-...|2-bedroom-notice-...|2-bedroom-notice-...|[{5001, 1, 0, UAE...|[{1, 1, 0, Reside...|1.714458347E9|1.714483815E9|1.714458347E9|    2|    3|  131.64360768|   75|      75|      75|      75|{+97144090909, [+...|Better Homes Busi...|{true, NULL, 2021...|b1edaba|[modern, 2 bedroo...|     false|{true, unverified...|            1|     unfurnished|property|{1136059, false, ...|                  []|         completed|             3|                 true|    false|                  1|    NULL| 5897890|{{{none, [], Bett...|          NULL|                NULL|                NULL|                NULL|                 NULL|            NULL|              NULL|           NULL|   1.71445837E9|\n",
      "|5897448|2162631|       2162631|       1|active|{25.191461695441,...|{25.191461695441,...|for-sale|3549000.0| premium|           3|      AP565378S|  7118563500|Fountain View | V...|   8929266|fountain-view-vot...|fountain-view-vot...|fountain-view-vot...|fountain-view-vot...|[{5001, 1, 0, UAE...|[{1, 1, 0, Reside...|1.714429246E9|1.714483936E9|1.714429246E9|    2|    3|   126.8126496|   75|      75|      75|      75|{+97144090909, [+...|         Salman Vali|{true, NULL, 2021...|da3365f|[فاخرة, mall, دور...|     false|{true, unverified...|            1|     unfurnished|property|{2162631, false, ...|[Balcony or Terra...|         completed|             3|                 true|    false|                  1|    NULL| 5897448|{{{none, [], Bett...|          NULL|                NULL|                NULL|                NULL|                 NULL|            NULL|              NULL|           NULL|   1.71442918E9|\n",
      "|5897196| 461566|        461566|       1|active|{25.191362, 55.27...|{25.191362, 55.27...|for-sale|3500000.0|     hot|           1|  Hamid-29 blvd|  7121227000|2BR FURNISHED APT...|   8928949|2br-furnished-apt...|2br-furnished-apt...|2br-furnished-apt...|2br-furnished-apt...|[{5001, 1, 0, UAE...|[{1, 1, 0, Reside...|1.714413906E9|1.714431914E9|1.714413906E9|    2|    2|    125.419104|   75|      75|      75|      75|{+971507940218, [...|           Hamid Ali|{true, NULL, 2016...|7df4adf|[مؤثثة, garden, ج...|     false|{false, unverifie...|            2|       furnished|property|{461566, false, H...|[Balcony or Terra...|         completed|             1|                 true|    false|                  1|    NULL| 5897196|{{{none, [], Hamp...|          NULL|                NULL|                NULL|                NULL|                 NULL|            NULL|              NULL|           NULL|   1.71441395E9|\n",
      "|5896596|2169819|       2169819|       1|active|{25.187985, 55.27...|{25.187985, 55.27...|for-sale|2500000.0| premium|           3|  103332-NnbWZU|  7117842415|Vacant I Furnishe...|   8928343|vacant-i-furnishe...|vacant-i-furnishe...|vacant-i-furnishe...|vacant-i-furnishe...|[{5001, 1, 0, UAE...|[{1, 1, 0, Reside...|1.714400921E9|1.714431888E9|1.714400921E9|    2|    3|123.1504117632|   75|      75|      75|      75|{+971545665477, [...|Taklit Gueddou Ch...|{true, NULL, 2023...|8aed337|[بلكونة, مفروش, b...|     false|{true, unverified...|            1|       furnished|property|{2169819, false, ...|[Waste Disposal, ...|         completed|             3|                false|    false|                  1|    NULL| 5896596|{{{none, [], Neo ...|          NULL|                NULL|                NULL|                NULL|                 NULL|            NULL|              NULL|           NULL|    1.7144009E9|\n",
      "|5896031| 597183|        597183|       1|active|{25.19167, 55.279...|{25.19167, 55.279...|for-sale|3050000.0|superhot|           0|      A1-S-8355|  7118854700|Exclusive | Burj ...|   8927775|exclusive-burj-an...|exclusive-burj-an...|exclusive-burj-an...|exclusive-burj-an...|[{5001, 1, 0, UAE...|[{1, 1, 0, Reside...|1.714396741E9|1.714431918E9|1.714396741E9|    2|    3|  128.48490432|   75|      75|      75|      75|{+971551613741, [...|          Luis Nuñez|{true, NULL, 2014...|f237d04|[balcony, مول, ار...|     false|{true, unverified...|            1|     unfurnished|property|{597183, false, L...|[Balcony or Terra...|         completed|             1|                 true|    false|                  1|    NULL| 5896031|{{{none, [], A1 P...|          NULL|                NULL|                NULL|                NULL|                 NULL|            NULL|              NULL|           NULL|    1.7143968E9|\n",
      "|5895759|2285987|       2285987|       1|active|{25.196944831991,...|{25.196944831991,...|for-sale|2580000.0| premium|           3|    LXF-S-60263|  7121546600|Spacious Layout |...|   8927443|spacious-layout-v...|spacious-layout-v...|spacious-layout-v...|spacious-layout-v...|[{5001, 1, 0, UAE...|[{1, 1, 0, Reside...|1.714394909E9|1.714478574E9|1.714394909E9|    2|    3|  123.83975232|   75|      75|      75|      75|{+971562018538, [...|        Ross Anthony|{true, NULL, 2019...|a1997a3|[balcony, غسيل, م...|     false|{true, unverified...|            1|       furnished|property|{2285987, false, ...|                  []|         completed|             3|                 true|    false|                  1|    NULL| 5895759|{{{none, [], Luxf...|          NULL|                NULL|                NULL|                NULL|                 NULL|            NULL|              NULL|           NULL|   1.71439488E9|\n",
      "|5893228|2099259|       2099259|       1|active|{25.195101326422,...|{25.195101326422,...|for-sale|2300000.0| premium|           3|    axc-3976273|  7110216857|High Floor | Full...|   8924826|high-floor-fully-...|high-floor-fully-...|high-floor-fully-...|high-floor-fully-...|[{5001, 1, 0, UAE...|[{1, 1, 0, Reside...|1.714378135E9|1.714432145E9|1.714378135E9|    2|    3|  127.46297088|   75|      75|      75|      75|{+971521949965, [...|       Parmida Azizi|{true, NULL, 2019...|7fd8a31|[ground, ارضية, m...|     false|{true, unverified...|            1|       furnished|property|{2099259, false, ...|                  []|         completed|             3|                false|    false|                  1|    NULL| 5893228|{{{none, [], AX C...|          NULL|                NULL|                NULL|                NULL|                 NULL|            NULL|              NULL|           NULL|   1.71437811E9|\n",
      "|5888312| 757099|        757099|       1|active|{25.193357636539,...|{25.193357636539,...|for-sale|3984000.0| premium|           3|    GHZL-cuMsI8| 71540546456|Volta by DAMAC, D...|   8919569|volta-by-damac-do...|volta-by-damac-do...|volta-by-damac-do...|volta-by-damac-do...|[{5001, 1, 0, UAE...|[{1, 1, 0, Reside...|1.714222917E9|1.714480247E9|1.714222917E9|    2|    3|133.8398355456|   75|      75|      75|      75|{+971564545530, [...|Noor Seddiqi Real...|{true, NULL, 2024...|ba1faa1|[new, فاخرة, مول,...|     false|{false, unverifie...|            2|       furnished|property|{757099, false, N...|[Completion Year,...|under-construction|             3|                false|    false|                  1|    NULL| 5888312|{{{none, [], Noor...| {60, 5871626}|{NULL, NULL, NULL...|                NULL|                NULL|                 NULL|            NULL|              NULL|           NULL|   1.71422298E9|\n",
      "|5888287| 757099|        757099|       1|active|{25.193357636539,...|{25.193357636539,...|for-sale|3984000.0| premium|           3|    GHZL-ZCNZWy| 71540546456|Volta by DAMAC, D...|   8919535|volta-by-damac-do...|volta-by-damac-do...|volta-by-damac-do...|volta-by-damac-do...|[{5001, 1, 0, UAE...|[{1, 1, 0, Reside...|1.714222492E9| 1.71448025E9|1.714222492E9|    2|    3|133.8398355456|   75|      75|      75|      75|{+971564545530, [...|Noor Seddiqi Real...|{true, NULL, 2024...|3964f3d|[new, جديدة, فاخر...|     false|{false, unverifie...|            2|       furnished|property|{757099, false, N...|[Completion Year,...|under-construction|             3|                false|    false|                  1|    NULL| 5888287|{{{none, [], Noor...| {60, 5871626}|{NULL, NULL, NULL...|                NULL|                NULL|                 NULL|            NULL|              NULL|           NULL|   1.71422246E9|\n",
      "|5888295| 757099|        757099|       1|active|{25.193357636539,...|{25.193357636539,...|for-sale|3984000.0| premium|           3|    GHZL-IuPkow| 71540546456|Volta by DAMAC, D...|   8919503|volta-by-damac-do...|volta-by-damac-do...|volta-by-damac-do...|volta-by-damac-do...|[{5001, 1, 0, UAE...|[{1, 1, 0, Reside...|1.714222166E9|1.714480253E9|1.714222166E9|    2|    3|133.8398355456|   75|      75|      75|      75|{+971564545530, [...|Noor Seddiqi Real...|{true, NULL, 2024...|fe0cd9f|[new, جديدة, فاخر...|     false|{false, unverifie...|            2|       furnished|property|{757099, false, N...|[Conference Room,...|under-construction|             3|                false|    false|                  1|    NULL| 5888295|{{{none, [], Noor...| {60, 5871626}|{NULL, NULL, NULL...|                NULL|                NULL|                 NULL|            NULL|              NULL|           NULL|   1.71422221E9|\n",
      "|5888389| 757099|        757099|       1|active|{25.193357636539,...|{25.193357636539,...|for-sale|3984000.0| premium|           3|    GHZL-W5TZ4r| 71540546456|Volta by DAMAC, D...|   8919465|volta-by-damac-do...|volta-by-damac-do...|volta-by-damac-do...|volta-by-damac-do...|[{5001, 1, 0, UAE...|[{1, 1, 0, Reside...|1.714221725E9|1.714480256E9|1.714221725E9|    2|    3|133.8398355456|   75|      75|      75|      75|{+971564545530, [...|Noor Seddiqi Real...|{true, NULL, 2024...|6341b39|[mall, جديدة, فاخ...|     false|{false, unverifie...|            2|       furnished|property|{757099, false, N...|[Gym or Health Cl...|under-construction|             3|                false|    false|                  1|    NULL| 5888389|{{{none, [], Noor...| {60, 5871626}|{NULL, NULL, NULL...|                NULL|                NULL|                 NULL|            NULL|              NULL|           NULL|    1.7142217E9|\n",
      "|5886090| 845051|        845051|       1|active|{25.19236269086, ...|{25.19236269086, ...|for-sale|4000000.0| premium|           3|     RNR-S-4489|  7117457641|Best Deal | Moder...|   8917050|best-deal-modern-...|best-deal-modern-...|best-deal-modern-...|best-deal-modern-...|[{5001, 1, 0, UAE...|[{1, 1, 0, Reside...|1.714200702E9|1.714483246E9|1.714200702E9|    2|    3|154.1995367616|   75|      75|      75|      75|{+971559774932, [...|Rakesh Mirchandan...|{true, NULL, 2015...|0759d51|[غرفتين, مودرن, م...|     false|{true, unverified...|            1|     unfurnished|property|{845051, false, R...|[View, Balcony or...|         completed|             3|                 true|    false|                  1|    NULL| 5886090|{{{none, [], RNR ...|          NULL|                NULL|                NULL|                NULL|                 NULL|            NULL|              NULL|           NULL|    1.7142007E9|\n",
      "|5886173| 757099|        757099|       1|active|{25.197421810246,...|{25.197421810246,...|for-sale|3984000.0| premium|           3|ZN104216-zsIR0H| 71540546456|Stunning 2BR | Do...|   8916920|stunning-2br-down...|stunning-2br-down...|stunning-2br-down...|stunning-2br-down...|[{5001, 1, 0, UAE...|[{1, 1, 0, Reside...|1.714198837E9|1.714485502E9|1.714198837E9|    2|    3|133.8398355456|   75|      75|      75|      75|{+971564545530, [...|Noor Seddiqi Real...|{true, NULL, 2024...|6b17989|[2 bedroom, 2 غرف...|      true|{true, verified, ...|            0|     unfurnished|property|{757099, false, N...|[Total Floors, Co...|under-construction|             3|                false|    false|                  1|    NULL| 5886173|{{{none, [], Noor...|{847, 5872213}|{NULL, NULL, NULL...|{1.8379728E9, NUL...|[{{20, 20, NULL, ...|                 NULL|            NULL|              NULL|           NULL|   1.71419878E9|\n",
      "|5881881|1051867|       1051867|       1|active|{25.190686138461,...|{25.190686138461,...|for-sale|3929989.0| premium|           3|    B-AS-108998| 71572291102|Exclusive Living ...|   8912720|exclusive-living-...|exclusive-living-...|exclusive-living-...|exclusive-living-...|[{5001, 1, 0, UAE...|[{1, 1, 0, Reside...|1.714118067E9|1.714485842E9|1.714118067E9|    2|    3|   129.1352256|   75|      75|      75|      75|{+97144395284, [+...| Muhammad Atif Hayat|{true, NULL, 2021...|ce1151d|[spacious, اول سا...|      true|{true, verified, ...|            0|     unfurnished|property|{1051867, false, ...|[Balcony or Terrace]|under-construction|             3|                false|    false|                  1|    NULL| 5881881|{{{none, [], fäm ...|{958, 5872330}|{NULL, NULL, NULL...|{1.8301968E9, NUL...|[{{20, 40, NULL, ...|                 NULL|            NULL|              NULL|           NULL|   1.71411802E9|\n",
      "|5880389|1001624|       1001624|       1|active|{25.187055, 55.27...|{25.187055, 55.27...|for-sale|3099888.0| premium|           3|    B-AS-108885|  7120502200|Well Kept | BURJ ...|   8911020|well-kept-burj-kh...|well-kept-burj-kh...|well-kept-burj-kh...|well-kept-burj-kh...|[{5001, 1, 0, UAE...|[{1, 1, 0, Reside...|1.714056435E9|1.714452335E9|1.714056435E9|    2|    3|   144.9287424|   75|      75|      75|      75|{+97144468943, [+...|         Owais Usman|{true, NULL, 2020...|240fff9|[كبيرة, balcony, ...|     false|{true, unverified...|            1|     unfurnished|property|{1001624, false, ...|[Balcony or Terrace]|         completed|             3|                 true|    false|                  1|    NULL| 5880389|{{{none, [], fäm ...|          NULL|                NULL|                NULL|                NULL|                 NULL|            NULL|              NULL|           NULL|   1.71405645E9|\n",
      "|5869851|1087919|       1087919|       1|active|{25.194829, 55.28...|{25.194829, 55.28...|for-sale|3600000.0| premium|           3|    B-AS-108747|  7123213488|Spacious Layout |...|   8901252|spacious-layout-a...|spacious-layout-a...|spacious-layout-a...|spacious-layout-a...|[{5001, 1, 0, UAE...|[{1, 1, 0, Reside...|  1.7139413E9|1.714452322E9|  1.7139413E9|    2|    3|   163.0448352|   75|      75|      75|      75|{+97148721940, [+...|        Aymon Ansari|{true, NULL, 2020...|818f83a|[ارضية, واسعة, fl...|     false|{true, unverified...|            1|     unfurnished|property|{1087919, false, ...|[Balcony or Terra...|         completed|             3|                 true|    false|                  1|    NULL| 5869851|{{{none, [], fäm ...|          NULL|                NULL|                NULL|                NULL|                 NULL|            NULL|              NULL|           NULL|   1.71394125E9|\n",
      "|5861712|2251852|       2251852|       1|active|{25.191785, 55.27...|{25.191785, 55.27...|for-sale|3350000.0| premium|           3|      SUP171433|  7118691200|Study | Bright | ...|   8892497|study-bright-burj...|study-bright-burj...|study-bright-burj...|study-bright-burj...|[{5001, 1, 0, UAE...|[{1, 1, 0, Reside...|1.713786636E9|1.714475899E9|1.713786636E9|    2|    3|  136.01005056|   75|      75|      75|      75|{+971585134555, [...|       Laith Kalomar|{true, NULL, 2021...|2f41ac9|[balcony, maid, ب...|      true|{true, verified, ...|            0|     unfurnished|property|{2251852, false, ...|[Balcony or Terrace]|         completed|             3|                 true|    false|                  1|    NULL| 5861712|{{{none, [], Alls...|          NULL|                NULL|                NULL|                NULL|                 NULL|            NULL|              NULL|           NULL|   1.71378662E9|\n",
      "|5861731|1889558|       1889558|       1|active|{25.188929, 55.27...|{25.188929, 55.27...|for-sale|3975000.0|superhot|           0|      AP727885S|  7122113900|Immaculate | Larg...|   8892378|immaculate-large-...|immaculate-large-...|immaculate-large-...|immaculate-large-...|[{5001, 1, 0, UAE...|[{1, 1, 0, Reside...| 1.71378627E9|1.714456876E9| 1.71378627E9|    2|    1|  220.83052608|   75|      75|      75|      75|{+97144090911, [+...|George Robert Barker|{true, NULL, 2021...|a92b6bd|[renovated, حديثة...|      true|{true, verified, ...|            0|       furnished|property|{1889558, false, ...|                  []|         completed|             1|                false|    false|                  1|    NULL| 5861731|{{{none, [], Bett...|          NULL|                NULL|                NULL|                NULL|                 NULL|            NULL|              NULL|           NULL|   1.71378624E9|\n",
      "|5839005|2200384|       2200384|       1|active|{25.185712544775,...|{25.185712544775,...|for-sale|2700000.0|     hot|           1|  102469-tr3jTW|  7117941402|Canal View | Read...|   8869958|canal-view-ready-...|canal-view-ready-...|canal-view-ready-...|canal-view-ready-...|[{5001, 1, 0, UAE...|[{1, 1, 0, Reside...|1.713277812E9|1.714462416E9|1.713277812E9|    2|    2|126.9111268224|   75|      75|      75|      75|{+971506857017, [...|       Sofia Purgina|{true, NULL, 2023...|0ba1f1f|[ايجار جديد, floo...|     false|{true, unverified...|            1|            NULL|property|{2200384, false, ...|[Balcony or Terra...|         completed|             1|                false|    false|                  1|    NULL| 5839005|{{{none, [], NF G...|          NULL|                NULL|                NULL|                NULL|                 NULL|            NULL|              NULL|           NULL|   1.71327782E9|\n",
      "|5894435|2027822|       2027822|       1|active|{25.190686138461,...|{25.190686138461,...|for-sale|3500000.0| premium|           3|   10362-jbKtwo|  1335492021|INVESTOR DEAL | H...|   8865026|investor-deal-hig...|investor-deal-hig...|investor-deal-hig...|investor-deal-hig...|[{5001, 1, 0, UAE...|[{1, 1, 0, Reside...| 1.71318286E9|1.714432277E9| 1.71318286E9|    2|    3|   132.8513472|   75|      75|      75|      75|{+971505290181, [...| Shabana Zaheeruddin|{true, NULL, 2021...|aacf08a|[مطبخ, kitchen, m...|     false|{false, unverifie...|            2|     unfurnished|property|{2027822, false, ...|[Barbeque Area, D...|under-construction|             3|                false|    false|                  1|    NULL| 5894435|{{{none, [], Bonn...|{958, 5872330}|                NULL|{1.8301968E9, NUL...|[{{20, 40, NULL, ...|                 NULL|            NULL|              NULL|           NULL|   1.71318285E9|\n",
      "+-------+-------+--------------+--------+------+--------------------+--------------------+--------+---------+--------+------------+---------------+------------+--------------------+----------+--------------------+--------------------+--------------------+--------------------+--------------------+--------------------+-------------+-------------+-------------+-----+-----+--------------+-----+--------+--------+--------+--------------------+--------------------+--------------------+-------+--------------------+----------+--------------------+-------------+----------------+--------+--------------------+--------------------+------------------+--------------+---------------------+---------+-------------------+--------+--------+--------------------+--------------+--------------------+--------------------+--------------------+---------------------+----------------+------------------+---------------+---------------+\n",
      "only showing top 20 rows\n",
      "\n"
     ]
    }
   ],
   "source": [
    "df.show()"
   ]
  },
  {
   "cell_type": "code",
   "execution_count": 80,
   "metadata": {},
   "outputs": [],
   "source": [
    "def time_fix(time_col):\n",
    "    return datetime.datetime.fromtimestamp(time_col).strftime('%Y-%m-%d %H:%M:%S')\n",
    "udf_func = udf(lambda time: time_fix(time), StringType())\n",
    "df = df.withColumn(\"created_at\", udf_func(df.createdAt_float))"
   ]
  },
  {
   "cell_type": "code",
   "execution_count": 81,
   "metadata": {},
   "outputs": [
    {
     "ename": "Py4JJavaError",
     "evalue": "An error occurred while calling o354.showString.\n: org.apache.spark.SparkException: Job aborted due to stage failure: Task 0 in stage 35.0 failed 1 times, most recent failure: Lost task 0.0 in stage 35.0 (TID 35) (DESKTOP-VS50GFG executor driver): org.apache.spark.SparkException: Python worker exited unexpectedly (crashed)\r\n\tat org.apache.spark.api.python.BasePythonRunner$ReaderIterator$$anonfun$1.applyOrElse(PythonRunner.scala:612)\r\n\tat org.apache.spark.api.python.BasePythonRunner$ReaderIterator$$anonfun$1.applyOrElse(PythonRunner.scala:594)\r\n\tat scala.runtime.AbstractPartialFunction.apply(AbstractPartialFunction.scala:38)\r\n\tat org.apache.spark.sql.execution.python.BasePythonUDFRunner$$anon$1.read(PythonUDFRunner.scala:99)\r\n\tat org.apache.spark.sql.execution.python.BasePythonUDFRunner$$anon$1.read(PythonUDFRunner.scala:75)\r\n\tat org.apache.spark.api.python.BasePythonRunner$ReaderIterator.hasNext(PythonRunner.scala:525)\r\n\tat org.apache.spark.InterruptibleIterator.hasNext(InterruptibleIterator.scala:37)\r\n\tat scala.collection.Iterator$$anon$11.hasNext(Iterator.scala:491)\r\n\tat scala.collection.Iterator$$anon$10.hasNext(Iterator.scala:460)\r\n\tat scala.collection.Iterator$$anon$10.hasNext(Iterator.scala:460)\r\n\tat scala.collection.Iterator$$anon$10.hasNext(Iterator.scala:460)\r\n\tat org.apache.spark.sql.execution.SparkPlan.$anonfun$getByteArrayRdd$1(SparkPlan.scala:388)\r\n\tat org.apache.spark.rdd.RDD.$anonfun$mapPartitionsInternal$2(RDD.scala:893)\r\n\tat org.apache.spark.rdd.RDD.$anonfun$mapPartitionsInternal$2$adapted(RDD.scala:893)\r\n\tat org.apache.spark.rdd.MapPartitionsRDD.compute(MapPartitionsRDD.scala:52)\r\n\tat org.apache.spark.rdd.RDD.computeOrReadCheckpoint(RDD.scala:367)\r\n\tat org.apache.spark.rdd.RDD.iterator(RDD.scala:331)\r\n\tat org.apache.spark.scheduler.ResultTask.runTask(ResultTask.scala:93)\r\n\tat org.apache.spark.TaskContext.runTaskWithListeners(TaskContext.scala:166)\r\n\tat org.apache.spark.scheduler.Task.run(Task.scala:141)\r\n\tat org.apache.spark.executor.Executor$TaskRunner.$anonfun$run$4(Executor.scala:620)\r\n\tat org.apache.spark.util.SparkErrorUtils.tryWithSafeFinally(SparkErrorUtils.scala:64)\r\n\tat org.apache.spark.util.SparkErrorUtils.tryWithSafeFinally$(SparkErrorUtils.scala:61)\r\n\tat org.apache.spark.util.Utils$.tryWithSafeFinally(Utils.scala:94)\r\n\tat org.apache.spark.executor.Executor$TaskRunner.run(Executor.scala:623)\r\n\tat java.util.concurrent.ThreadPoolExecutor.runWorker(Unknown Source)\r\n\tat java.util.concurrent.ThreadPoolExecutor$Worker.run(Unknown Source)\r\n\tat java.lang.Thread.run(Unknown Source)\r\nCaused by: java.io.EOFException\r\n\tat java.io.DataInputStream.readInt(Unknown Source)\r\n\tat org.apache.spark.sql.execution.python.BasePythonUDFRunner$$anon$1.read(PythonUDFRunner.scala:83)\r\n\t... 24 more\r\n\nDriver stacktrace:\r\n\tat org.apache.spark.scheduler.DAGScheduler.failJobAndIndependentStages(DAGScheduler.scala:2856)\r\n\tat org.apache.spark.scheduler.DAGScheduler.$anonfun$abortStage$2(DAGScheduler.scala:2792)\r\n\tat org.apache.spark.scheduler.DAGScheduler.$anonfun$abortStage$2$adapted(DAGScheduler.scala:2791)\r\n\tat scala.collection.mutable.ResizableArray.foreach(ResizableArray.scala:62)\r\n\tat scala.collection.mutable.ResizableArray.foreach$(ResizableArray.scala:55)\r\n\tat scala.collection.mutable.ArrayBuffer.foreach(ArrayBuffer.scala:49)\r\n\tat org.apache.spark.scheduler.DAGScheduler.abortStage(DAGScheduler.scala:2791)\r\n\tat org.apache.spark.scheduler.DAGScheduler.$anonfun$handleTaskSetFailed$1(DAGScheduler.scala:1247)\r\n\tat org.apache.spark.scheduler.DAGScheduler.$anonfun$handleTaskSetFailed$1$adapted(DAGScheduler.scala:1247)\r\n\tat scala.Option.foreach(Option.scala:407)\r\n\tat org.apache.spark.scheduler.DAGScheduler.handleTaskSetFailed(DAGScheduler.scala:1247)\r\n\tat org.apache.spark.scheduler.DAGSchedulerEventProcessLoop.doOnReceive(DAGScheduler.scala:3060)\r\n\tat org.apache.spark.scheduler.DAGSchedulerEventProcessLoop.onReceive(DAGScheduler.scala:2994)\r\n\tat org.apache.spark.scheduler.DAGSchedulerEventProcessLoop.onReceive(DAGScheduler.scala:2983)\r\n\tat org.apache.spark.util.EventLoop$$anon$1.run(EventLoop.scala:49)\r\n\tat org.apache.spark.scheduler.DAGScheduler.runJob(DAGScheduler.scala:989)\r\n\tat org.apache.spark.SparkContext.runJob(SparkContext.scala:2398)\r\n\tat org.apache.spark.SparkContext.runJob(SparkContext.scala:2419)\r\n\tat org.apache.spark.SparkContext.runJob(SparkContext.scala:2438)\r\n\tat org.apache.spark.sql.execution.SparkPlan.executeTake(SparkPlan.scala:530)\r\n\tat org.apache.spark.sql.execution.SparkPlan.executeTake(SparkPlan.scala:483)\r\n\tat org.apache.spark.sql.execution.CollectLimitExec.executeCollect(limit.scala:61)\r\n\tat org.apache.spark.sql.Dataset.collectFromPlan(Dataset.scala:4332)\r\n\tat org.apache.spark.sql.Dataset.$anonfun$head$1(Dataset.scala:3314)\r\n\tat org.apache.spark.sql.Dataset.$anonfun$withAction$2(Dataset.scala:4322)\r\n\tat org.apache.spark.sql.execution.QueryExecution$.withInternalError(QueryExecution.scala:546)\r\n\tat org.apache.spark.sql.Dataset.$anonfun$withAction$1(Dataset.scala:4320)\r\n\tat org.apache.spark.sql.execution.SQLExecution$.$anonfun$withNewExecutionId$6(SQLExecution.scala:125)\r\n\tat org.apache.spark.sql.execution.SQLExecution$.withSQLConfPropagated(SQLExecution.scala:201)\r\n\tat org.apache.spark.sql.execution.SQLExecution$.$anonfun$withNewExecutionId$1(SQLExecution.scala:108)\r\n\tat org.apache.spark.sql.SparkSession.withActive(SparkSession.scala:900)\r\n\tat org.apache.spark.sql.execution.SQLExecution$.withNewExecutionId(SQLExecution.scala:66)\r\n\tat org.apache.spark.sql.Dataset.withAction(Dataset.scala:4320)\r\n\tat org.apache.spark.sql.Dataset.head(Dataset.scala:3314)\r\n\tat org.apache.spark.sql.Dataset.take(Dataset.scala:3537)\r\n\tat org.apache.spark.sql.Dataset.getRows(Dataset.scala:280)\r\n\tat org.apache.spark.sql.Dataset.showString(Dataset.scala:315)\r\n\tat sun.reflect.GeneratedMethodAccessor60.invoke(Unknown Source)\r\n\tat sun.reflect.DelegatingMethodAccessorImpl.invoke(Unknown Source)\r\n\tat java.lang.reflect.Method.invoke(Unknown Source)\r\n\tat py4j.reflection.MethodInvoker.invoke(MethodInvoker.java:244)\r\n\tat py4j.reflection.ReflectionEngine.invoke(ReflectionEngine.java:374)\r\n\tat py4j.Gateway.invoke(Gateway.java:282)\r\n\tat py4j.commands.AbstractCommand.invokeMethod(AbstractCommand.java:132)\r\n\tat py4j.commands.CallCommand.execute(CallCommand.java:79)\r\n\tat py4j.ClientServerConnection.waitForCommands(ClientServerConnection.java:182)\r\n\tat py4j.ClientServerConnection.run(ClientServerConnection.java:106)\r\n\tat java.lang.Thread.run(Unknown Source)\r\nCaused by: org.apache.spark.SparkException: Python worker exited unexpectedly (crashed)\r\n\tat org.apache.spark.api.python.BasePythonRunner$ReaderIterator$$anonfun$1.applyOrElse(PythonRunner.scala:612)\r\n\tat org.apache.spark.api.python.BasePythonRunner$ReaderIterator$$anonfun$1.applyOrElse(PythonRunner.scala:594)\r\n\tat scala.runtime.AbstractPartialFunction.apply(AbstractPartialFunction.scala:38)\r\n\tat org.apache.spark.sql.execution.python.BasePythonUDFRunner$$anon$1.read(PythonUDFRunner.scala:99)\r\n\tat org.apache.spark.sql.execution.python.BasePythonUDFRunner$$anon$1.read(PythonUDFRunner.scala:75)\r\n\tat org.apache.spark.api.python.BasePythonRunner$ReaderIterator.hasNext(PythonRunner.scala:525)\r\n\tat org.apache.spark.InterruptibleIterator.hasNext(InterruptibleIterator.scala:37)\r\n\tat scala.collection.Iterator$$anon$11.hasNext(Iterator.scala:491)\r\n\tat scala.collection.Iterator$$anon$10.hasNext(Iterator.scala:460)\r\n\tat scala.collection.Iterator$$anon$10.hasNext(Iterator.scala:460)\r\n\tat scala.collection.Iterator$$anon$10.hasNext(Iterator.scala:460)\r\n\tat org.apache.spark.sql.execution.SparkPlan.$anonfun$getByteArrayRdd$1(SparkPlan.scala:388)\r\n\tat org.apache.spark.rdd.RDD.$anonfun$mapPartitionsInternal$2(RDD.scala:893)\r\n\tat org.apache.spark.rdd.RDD.$anonfun$mapPartitionsInternal$2$adapted(RDD.scala:893)\r\n\tat org.apache.spark.rdd.MapPartitionsRDD.compute(MapPartitionsRDD.scala:52)\r\n\tat org.apache.spark.rdd.RDD.computeOrReadCheckpoint(RDD.scala:367)\r\n\tat org.apache.spark.rdd.RDD.iterator(RDD.scala:331)\r\n\tat org.apache.spark.scheduler.ResultTask.runTask(ResultTask.scala:93)\r\n\tat org.apache.spark.TaskContext.runTaskWithListeners(TaskContext.scala:166)\r\n\tat org.apache.spark.scheduler.Task.run(Task.scala:141)\r\n\tat org.apache.spark.executor.Executor$TaskRunner.$anonfun$run$4(Executor.scala:620)\r\n\tat org.apache.spark.util.SparkErrorUtils.tryWithSafeFinally(SparkErrorUtils.scala:64)\r\n\tat org.apache.spark.util.SparkErrorUtils.tryWithSafeFinally$(SparkErrorUtils.scala:61)\r\n\tat org.apache.spark.util.Utils$.tryWithSafeFinally(Utils.scala:94)\r\n\tat org.apache.spark.executor.Executor$TaskRunner.run(Executor.scala:623)\r\n\tat java.util.concurrent.ThreadPoolExecutor.runWorker(Unknown Source)\r\n\tat java.util.concurrent.ThreadPoolExecutor$Worker.run(Unknown Source)\r\n\t... 1 more\r\nCaused by: java.io.EOFException\r\n\tat java.io.DataInputStream.readInt(Unknown Source)\r\n\tat org.apache.spark.sql.execution.python.BasePythonUDFRunner$$anon$1.read(PythonUDFRunner.scala:83)\r\n\t... 24 more\r\n",
     "output_type": "error",
     "traceback": [
      "\u001b[1;31m---------------------------------------------------------------------------\u001b[0m",
      "\u001b[1;31mPy4JJavaError\u001b[0m                             Traceback (most recent call last)",
      "Cell \u001b[1;32mIn[81], line 1\u001b[0m\n\u001b[1;32m----> 1\u001b[0m \u001b[43mdf\u001b[49m\u001b[38;5;241;43m.\u001b[39;49m\u001b[43mshow\u001b[49m\u001b[43m(\u001b[49m\u001b[43m)\u001b[49m\n",
      "File \u001b[1;32m~\\AppData\\Local\\Packages\\PythonSoftwareFoundation.Python.3.12_qbz5n2kfra8p0\\LocalCache\\local-packages\\Python312\\site-packages\\pyspark\\sql\\dataframe.py:945\u001b[0m, in \u001b[0;36mDataFrame.show\u001b[1;34m(self, n, truncate, vertical)\u001b[0m\n\u001b[0;32m    885\u001b[0m \u001b[38;5;28;01mdef\u001b[39;00m \u001b[38;5;21mshow\u001b[39m(\u001b[38;5;28mself\u001b[39m, n: \u001b[38;5;28mint\u001b[39m \u001b[38;5;241m=\u001b[39m \u001b[38;5;241m20\u001b[39m, truncate: Union[\u001b[38;5;28mbool\u001b[39m, \u001b[38;5;28mint\u001b[39m] \u001b[38;5;241m=\u001b[39m \u001b[38;5;28;01mTrue\u001b[39;00m, vertical: \u001b[38;5;28mbool\u001b[39m \u001b[38;5;241m=\u001b[39m \u001b[38;5;28;01mFalse\u001b[39;00m) \u001b[38;5;241m-\u001b[39m\u001b[38;5;241m>\u001b[39m \u001b[38;5;28;01mNone\u001b[39;00m:\n\u001b[0;32m    886\u001b[0m \u001b[38;5;250m    \u001b[39m\u001b[38;5;124;03m\"\"\"Prints the first ``n`` rows to the console.\u001b[39;00m\n\u001b[0;32m    887\u001b[0m \n\u001b[0;32m    888\u001b[0m \u001b[38;5;124;03m    .. versionadded:: 1.3.0\u001b[39;00m\n\u001b[1;32m   (...)\u001b[0m\n\u001b[0;32m    943\u001b[0m \u001b[38;5;124;03m    name | Bob\u001b[39;00m\n\u001b[0;32m    944\u001b[0m \u001b[38;5;124;03m    \"\"\"\u001b[39;00m\n\u001b[1;32m--> 945\u001b[0m     \u001b[38;5;28mprint\u001b[39m(\u001b[38;5;28;43mself\u001b[39;49m\u001b[38;5;241;43m.\u001b[39;49m\u001b[43m_show_string\u001b[49m\u001b[43m(\u001b[49m\u001b[43mn\u001b[49m\u001b[43m,\u001b[49m\u001b[43m \u001b[49m\u001b[43mtruncate\u001b[49m\u001b[43m,\u001b[49m\u001b[43m \u001b[49m\u001b[43mvertical\u001b[49m\u001b[43m)\u001b[49m)\n",
      "File \u001b[1;32m~\\AppData\\Local\\Packages\\PythonSoftwareFoundation.Python.3.12_qbz5n2kfra8p0\\LocalCache\\local-packages\\Python312\\site-packages\\pyspark\\sql\\dataframe.py:963\u001b[0m, in \u001b[0;36mDataFrame._show_string\u001b[1;34m(self, n, truncate, vertical)\u001b[0m\n\u001b[0;32m    957\u001b[0m     \u001b[38;5;28;01mraise\u001b[39;00m PySparkTypeError(\n\u001b[0;32m    958\u001b[0m         error_class\u001b[38;5;241m=\u001b[39m\u001b[38;5;124m\"\u001b[39m\u001b[38;5;124mNOT_BOOL\u001b[39m\u001b[38;5;124m\"\u001b[39m,\n\u001b[0;32m    959\u001b[0m         message_parameters\u001b[38;5;241m=\u001b[39m{\u001b[38;5;124m\"\u001b[39m\u001b[38;5;124marg_name\u001b[39m\u001b[38;5;124m\"\u001b[39m: \u001b[38;5;124m\"\u001b[39m\u001b[38;5;124mvertical\u001b[39m\u001b[38;5;124m\"\u001b[39m, \u001b[38;5;124m\"\u001b[39m\u001b[38;5;124marg_type\u001b[39m\u001b[38;5;124m\"\u001b[39m: \u001b[38;5;28mtype\u001b[39m(vertical)\u001b[38;5;241m.\u001b[39m\u001b[38;5;18m__name__\u001b[39m},\n\u001b[0;32m    960\u001b[0m     )\n\u001b[0;32m    962\u001b[0m \u001b[38;5;28;01mif\u001b[39;00m \u001b[38;5;28misinstance\u001b[39m(truncate, \u001b[38;5;28mbool\u001b[39m) \u001b[38;5;129;01mand\u001b[39;00m truncate:\n\u001b[1;32m--> 963\u001b[0m     \u001b[38;5;28;01mreturn\u001b[39;00m \u001b[38;5;28;43mself\u001b[39;49m\u001b[38;5;241;43m.\u001b[39;49m\u001b[43m_jdf\u001b[49m\u001b[38;5;241;43m.\u001b[39;49m\u001b[43mshowString\u001b[49m\u001b[43m(\u001b[49m\u001b[43mn\u001b[49m\u001b[43m,\u001b[49m\u001b[43m \u001b[49m\u001b[38;5;241;43m20\u001b[39;49m\u001b[43m,\u001b[49m\u001b[43m \u001b[49m\u001b[43mvertical\u001b[49m\u001b[43m)\u001b[49m\n\u001b[0;32m    964\u001b[0m \u001b[38;5;28;01melse\u001b[39;00m:\n\u001b[0;32m    965\u001b[0m     \u001b[38;5;28;01mtry\u001b[39;00m:\n",
      "File \u001b[1;32m~\\AppData\\Local\\Packages\\PythonSoftwareFoundation.Python.3.12_qbz5n2kfra8p0\\LocalCache\\local-packages\\Python312\\site-packages\\py4j\\java_gateway.py:1322\u001b[0m, in \u001b[0;36mJavaMember.__call__\u001b[1;34m(self, *args)\u001b[0m\n\u001b[0;32m   1316\u001b[0m command \u001b[38;5;241m=\u001b[39m proto\u001b[38;5;241m.\u001b[39mCALL_COMMAND_NAME \u001b[38;5;241m+\u001b[39m\\\n\u001b[0;32m   1317\u001b[0m     \u001b[38;5;28mself\u001b[39m\u001b[38;5;241m.\u001b[39mcommand_header \u001b[38;5;241m+\u001b[39m\\\n\u001b[0;32m   1318\u001b[0m     args_command \u001b[38;5;241m+\u001b[39m\\\n\u001b[0;32m   1319\u001b[0m     proto\u001b[38;5;241m.\u001b[39mEND_COMMAND_PART\n\u001b[0;32m   1321\u001b[0m answer \u001b[38;5;241m=\u001b[39m \u001b[38;5;28mself\u001b[39m\u001b[38;5;241m.\u001b[39mgateway_client\u001b[38;5;241m.\u001b[39msend_command(command)\n\u001b[1;32m-> 1322\u001b[0m return_value \u001b[38;5;241m=\u001b[39m \u001b[43mget_return_value\u001b[49m\u001b[43m(\u001b[49m\n\u001b[0;32m   1323\u001b[0m \u001b[43m    \u001b[49m\u001b[43manswer\u001b[49m\u001b[43m,\u001b[49m\u001b[43m \u001b[49m\u001b[38;5;28;43mself\u001b[39;49m\u001b[38;5;241;43m.\u001b[39;49m\u001b[43mgateway_client\u001b[49m\u001b[43m,\u001b[49m\u001b[43m \u001b[49m\u001b[38;5;28;43mself\u001b[39;49m\u001b[38;5;241;43m.\u001b[39;49m\u001b[43mtarget_id\u001b[49m\u001b[43m,\u001b[49m\u001b[43m \u001b[49m\u001b[38;5;28;43mself\u001b[39;49m\u001b[38;5;241;43m.\u001b[39;49m\u001b[43mname\u001b[49m\u001b[43m)\u001b[49m\n\u001b[0;32m   1325\u001b[0m \u001b[38;5;28;01mfor\u001b[39;00m temp_arg \u001b[38;5;129;01min\u001b[39;00m temp_args:\n\u001b[0;32m   1326\u001b[0m     \u001b[38;5;28;01mif\u001b[39;00m \u001b[38;5;28mhasattr\u001b[39m(temp_arg, \u001b[38;5;124m\"\u001b[39m\u001b[38;5;124m_detach\u001b[39m\u001b[38;5;124m\"\u001b[39m):\n",
      "File \u001b[1;32m~\\AppData\\Local\\Packages\\PythonSoftwareFoundation.Python.3.12_qbz5n2kfra8p0\\LocalCache\\local-packages\\Python312\\site-packages\\pyspark\\errors\\exceptions\\captured.py:179\u001b[0m, in \u001b[0;36mcapture_sql_exception.<locals>.deco\u001b[1;34m(*a, **kw)\u001b[0m\n\u001b[0;32m    177\u001b[0m \u001b[38;5;28;01mdef\u001b[39;00m \u001b[38;5;21mdeco\u001b[39m(\u001b[38;5;241m*\u001b[39ma: Any, \u001b[38;5;241m*\u001b[39m\u001b[38;5;241m*\u001b[39mkw: Any) \u001b[38;5;241m-\u001b[39m\u001b[38;5;241m>\u001b[39m Any:\n\u001b[0;32m    178\u001b[0m     \u001b[38;5;28;01mtry\u001b[39;00m:\n\u001b[1;32m--> 179\u001b[0m         \u001b[38;5;28;01mreturn\u001b[39;00m \u001b[43mf\u001b[49m\u001b[43m(\u001b[49m\u001b[38;5;241;43m*\u001b[39;49m\u001b[43ma\u001b[49m\u001b[43m,\u001b[49m\u001b[43m \u001b[49m\u001b[38;5;241;43m*\u001b[39;49m\u001b[38;5;241;43m*\u001b[39;49m\u001b[43mkw\u001b[49m\u001b[43m)\u001b[49m\n\u001b[0;32m    180\u001b[0m     \u001b[38;5;28;01mexcept\u001b[39;00m Py4JJavaError \u001b[38;5;28;01mas\u001b[39;00m e:\n\u001b[0;32m    181\u001b[0m         converted \u001b[38;5;241m=\u001b[39m convert_exception(e\u001b[38;5;241m.\u001b[39mjava_exception)\n",
      "File \u001b[1;32m~\\AppData\\Local\\Packages\\PythonSoftwareFoundation.Python.3.12_qbz5n2kfra8p0\\LocalCache\\local-packages\\Python312\\site-packages\\py4j\\protocol.py:326\u001b[0m, in \u001b[0;36mget_return_value\u001b[1;34m(answer, gateway_client, target_id, name)\u001b[0m\n\u001b[0;32m    324\u001b[0m value \u001b[38;5;241m=\u001b[39m OUTPUT_CONVERTER[\u001b[38;5;28mtype\u001b[39m](answer[\u001b[38;5;241m2\u001b[39m:], gateway_client)\n\u001b[0;32m    325\u001b[0m \u001b[38;5;28;01mif\u001b[39;00m answer[\u001b[38;5;241m1\u001b[39m] \u001b[38;5;241m==\u001b[39m REFERENCE_TYPE:\n\u001b[1;32m--> 326\u001b[0m     \u001b[38;5;28;01mraise\u001b[39;00m Py4JJavaError(\n\u001b[0;32m    327\u001b[0m         \u001b[38;5;124m\"\u001b[39m\u001b[38;5;124mAn error occurred while calling \u001b[39m\u001b[38;5;132;01m{0}\u001b[39;00m\u001b[38;5;132;01m{1}\u001b[39;00m\u001b[38;5;132;01m{2}\u001b[39;00m\u001b[38;5;124m.\u001b[39m\u001b[38;5;130;01m\\n\u001b[39;00m\u001b[38;5;124m\"\u001b[39m\u001b[38;5;241m.\u001b[39m\n\u001b[0;32m    328\u001b[0m         \u001b[38;5;28mformat\u001b[39m(target_id, \u001b[38;5;124m\"\u001b[39m\u001b[38;5;124m.\u001b[39m\u001b[38;5;124m\"\u001b[39m, name), value)\n\u001b[0;32m    329\u001b[0m \u001b[38;5;28;01melse\u001b[39;00m:\n\u001b[0;32m    330\u001b[0m     \u001b[38;5;28;01mraise\u001b[39;00m Py4JError(\n\u001b[0;32m    331\u001b[0m         \u001b[38;5;124m\"\u001b[39m\u001b[38;5;124mAn error occurred while calling \u001b[39m\u001b[38;5;132;01m{0}\u001b[39;00m\u001b[38;5;132;01m{1}\u001b[39;00m\u001b[38;5;132;01m{2}\u001b[39;00m\u001b[38;5;124m. Trace:\u001b[39m\u001b[38;5;130;01m\\n\u001b[39;00m\u001b[38;5;132;01m{3}\u001b[39;00m\u001b[38;5;130;01m\\n\u001b[39;00m\u001b[38;5;124m\"\u001b[39m\u001b[38;5;241m.\u001b[39m\n\u001b[0;32m    332\u001b[0m         \u001b[38;5;28mformat\u001b[39m(target_id, \u001b[38;5;124m\"\u001b[39m\u001b[38;5;124m.\u001b[39m\u001b[38;5;124m\"\u001b[39m, name, value))\n",
      "\u001b[1;31mPy4JJavaError\u001b[0m: An error occurred while calling o354.showString.\n: org.apache.spark.SparkException: Job aborted due to stage failure: Task 0 in stage 35.0 failed 1 times, most recent failure: Lost task 0.0 in stage 35.0 (TID 35) (DESKTOP-VS50GFG executor driver): org.apache.spark.SparkException: Python worker exited unexpectedly (crashed)\r\n\tat org.apache.spark.api.python.BasePythonRunner$ReaderIterator$$anonfun$1.applyOrElse(PythonRunner.scala:612)\r\n\tat org.apache.spark.api.python.BasePythonRunner$ReaderIterator$$anonfun$1.applyOrElse(PythonRunner.scala:594)\r\n\tat scala.runtime.AbstractPartialFunction.apply(AbstractPartialFunction.scala:38)\r\n\tat org.apache.spark.sql.execution.python.BasePythonUDFRunner$$anon$1.read(PythonUDFRunner.scala:99)\r\n\tat org.apache.spark.sql.execution.python.BasePythonUDFRunner$$anon$1.read(PythonUDFRunner.scala:75)\r\n\tat org.apache.spark.api.python.BasePythonRunner$ReaderIterator.hasNext(PythonRunner.scala:525)\r\n\tat org.apache.spark.InterruptibleIterator.hasNext(InterruptibleIterator.scala:37)\r\n\tat scala.collection.Iterator$$anon$11.hasNext(Iterator.scala:491)\r\n\tat scala.collection.Iterator$$anon$10.hasNext(Iterator.scala:460)\r\n\tat scala.collection.Iterator$$anon$10.hasNext(Iterator.scala:460)\r\n\tat scala.collection.Iterator$$anon$10.hasNext(Iterator.scala:460)\r\n\tat org.apache.spark.sql.execution.SparkPlan.$anonfun$getByteArrayRdd$1(SparkPlan.scala:388)\r\n\tat org.apache.spark.rdd.RDD.$anonfun$mapPartitionsInternal$2(RDD.scala:893)\r\n\tat org.apache.spark.rdd.RDD.$anonfun$mapPartitionsInternal$2$adapted(RDD.scala:893)\r\n\tat org.apache.spark.rdd.MapPartitionsRDD.compute(MapPartitionsRDD.scala:52)\r\n\tat org.apache.spark.rdd.RDD.computeOrReadCheckpoint(RDD.scala:367)\r\n\tat org.apache.spark.rdd.RDD.iterator(RDD.scala:331)\r\n\tat org.apache.spark.scheduler.ResultTask.runTask(ResultTask.scala:93)\r\n\tat org.apache.spark.TaskContext.runTaskWithListeners(TaskContext.scala:166)\r\n\tat org.apache.spark.scheduler.Task.run(Task.scala:141)\r\n\tat org.apache.spark.executor.Executor$TaskRunner.$anonfun$run$4(Executor.scala:620)\r\n\tat org.apache.spark.util.SparkErrorUtils.tryWithSafeFinally(SparkErrorUtils.scala:64)\r\n\tat org.apache.spark.util.SparkErrorUtils.tryWithSafeFinally$(SparkErrorUtils.scala:61)\r\n\tat org.apache.spark.util.Utils$.tryWithSafeFinally(Utils.scala:94)\r\n\tat org.apache.spark.executor.Executor$TaskRunner.run(Executor.scala:623)\r\n\tat java.util.concurrent.ThreadPoolExecutor.runWorker(Unknown Source)\r\n\tat java.util.concurrent.ThreadPoolExecutor$Worker.run(Unknown Source)\r\n\tat java.lang.Thread.run(Unknown Source)\r\nCaused by: java.io.EOFException\r\n\tat java.io.DataInputStream.readInt(Unknown Source)\r\n\tat org.apache.spark.sql.execution.python.BasePythonUDFRunner$$anon$1.read(PythonUDFRunner.scala:83)\r\n\t... 24 more\r\n\nDriver stacktrace:\r\n\tat org.apache.spark.scheduler.DAGScheduler.failJobAndIndependentStages(DAGScheduler.scala:2856)\r\n\tat org.apache.spark.scheduler.DAGScheduler.$anonfun$abortStage$2(DAGScheduler.scala:2792)\r\n\tat org.apache.spark.scheduler.DAGScheduler.$anonfun$abortStage$2$adapted(DAGScheduler.scala:2791)\r\n\tat scala.collection.mutable.ResizableArray.foreach(ResizableArray.scala:62)\r\n\tat scala.collection.mutable.ResizableArray.foreach$(ResizableArray.scala:55)\r\n\tat scala.collection.mutable.ArrayBuffer.foreach(ArrayBuffer.scala:49)\r\n\tat org.apache.spark.scheduler.DAGScheduler.abortStage(DAGScheduler.scala:2791)\r\n\tat org.apache.spark.scheduler.DAGScheduler.$anonfun$handleTaskSetFailed$1(DAGScheduler.scala:1247)\r\n\tat org.apache.spark.scheduler.DAGScheduler.$anonfun$handleTaskSetFailed$1$adapted(DAGScheduler.scala:1247)\r\n\tat scala.Option.foreach(Option.scala:407)\r\n\tat org.apache.spark.scheduler.DAGScheduler.handleTaskSetFailed(DAGScheduler.scala:1247)\r\n\tat org.apache.spark.scheduler.DAGSchedulerEventProcessLoop.doOnReceive(DAGScheduler.scala:3060)\r\n\tat org.apache.spark.scheduler.DAGSchedulerEventProcessLoop.onReceive(DAGScheduler.scala:2994)\r\n\tat org.apache.spark.scheduler.DAGSchedulerEventProcessLoop.onReceive(DAGScheduler.scala:2983)\r\n\tat org.apache.spark.util.EventLoop$$anon$1.run(EventLoop.scala:49)\r\n\tat org.apache.spark.scheduler.DAGScheduler.runJob(DAGScheduler.scala:989)\r\n\tat org.apache.spark.SparkContext.runJob(SparkContext.scala:2398)\r\n\tat org.apache.spark.SparkContext.runJob(SparkContext.scala:2419)\r\n\tat org.apache.spark.SparkContext.runJob(SparkContext.scala:2438)\r\n\tat org.apache.spark.sql.execution.SparkPlan.executeTake(SparkPlan.scala:530)\r\n\tat org.apache.spark.sql.execution.SparkPlan.executeTake(SparkPlan.scala:483)\r\n\tat org.apache.spark.sql.execution.CollectLimitExec.executeCollect(limit.scala:61)\r\n\tat org.apache.spark.sql.Dataset.collectFromPlan(Dataset.scala:4332)\r\n\tat org.apache.spark.sql.Dataset.$anonfun$head$1(Dataset.scala:3314)\r\n\tat org.apache.spark.sql.Dataset.$anonfun$withAction$2(Dataset.scala:4322)\r\n\tat org.apache.spark.sql.execution.QueryExecution$.withInternalError(QueryExecution.scala:546)\r\n\tat org.apache.spark.sql.Dataset.$anonfun$withAction$1(Dataset.scala:4320)\r\n\tat org.apache.spark.sql.execution.SQLExecution$.$anonfun$withNewExecutionId$6(SQLExecution.scala:125)\r\n\tat org.apache.spark.sql.execution.SQLExecution$.withSQLConfPropagated(SQLExecution.scala:201)\r\n\tat org.apache.spark.sql.execution.SQLExecution$.$anonfun$withNewExecutionId$1(SQLExecution.scala:108)\r\n\tat org.apache.spark.sql.SparkSession.withActive(SparkSession.scala:900)\r\n\tat org.apache.spark.sql.execution.SQLExecution$.withNewExecutionId(SQLExecution.scala:66)\r\n\tat org.apache.spark.sql.Dataset.withAction(Dataset.scala:4320)\r\n\tat org.apache.spark.sql.Dataset.head(Dataset.scala:3314)\r\n\tat org.apache.spark.sql.Dataset.take(Dataset.scala:3537)\r\n\tat org.apache.spark.sql.Dataset.getRows(Dataset.scala:280)\r\n\tat org.apache.spark.sql.Dataset.showString(Dataset.scala:315)\r\n\tat sun.reflect.GeneratedMethodAccessor60.invoke(Unknown Source)\r\n\tat sun.reflect.DelegatingMethodAccessorImpl.invoke(Unknown Source)\r\n\tat java.lang.reflect.Method.invoke(Unknown Source)\r\n\tat py4j.reflection.MethodInvoker.invoke(MethodInvoker.java:244)\r\n\tat py4j.reflection.ReflectionEngine.invoke(ReflectionEngine.java:374)\r\n\tat py4j.Gateway.invoke(Gateway.java:282)\r\n\tat py4j.commands.AbstractCommand.invokeMethod(AbstractCommand.java:132)\r\n\tat py4j.commands.CallCommand.execute(CallCommand.java:79)\r\n\tat py4j.ClientServerConnection.waitForCommands(ClientServerConnection.java:182)\r\n\tat py4j.ClientServerConnection.run(ClientServerConnection.java:106)\r\n\tat java.lang.Thread.run(Unknown Source)\r\nCaused by: org.apache.spark.SparkException: Python worker exited unexpectedly (crashed)\r\n\tat org.apache.spark.api.python.BasePythonRunner$ReaderIterator$$anonfun$1.applyOrElse(PythonRunner.scala:612)\r\n\tat org.apache.spark.api.python.BasePythonRunner$ReaderIterator$$anonfun$1.applyOrElse(PythonRunner.scala:594)\r\n\tat scala.runtime.AbstractPartialFunction.apply(AbstractPartialFunction.scala:38)\r\n\tat org.apache.spark.sql.execution.python.BasePythonUDFRunner$$anon$1.read(PythonUDFRunner.scala:99)\r\n\tat org.apache.spark.sql.execution.python.BasePythonUDFRunner$$anon$1.read(PythonUDFRunner.scala:75)\r\n\tat org.apache.spark.api.python.BasePythonRunner$ReaderIterator.hasNext(PythonRunner.scala:525)\r\n\tat org.apache.spark.InterruptibleIterator.hasNext(InterruptibleIterator.scala:37)\r\n\tat scala.collection.Iterator$$anon$11.hasNext(Iterator.scala:491)\r\n\tat scala.collection.Iterator$$anon$10.hasNext(Iterator.scala:460)\r\n\tat scala.collection.Iterator$$anon$10.hasNext(Iterator.scala:460)\r\n\tat scala.collection.Iterator$$anon$10.hasNext(Iterator.scala:460)\r\n\tat org.apache.spark.sql.execution.SparkPlan.$anonfun$getByteArrayRdd$1(SparkPlan.scala:388)\r\n\tat org.apache.spark.rdd.RDD.$anonfun$mapPartitionsInternal$2(RDD.scala:893)\r\n\tat org.apache.spark.rdd.RDD.$anonfun$mapPartitionsInternal$2$adapted(RDD.scala:893)\r\n\tat org.apache.spark.rdd.MapPartitionsRDD.compute(MapPartitionsRDD.scala:52)\r\n\tat org.apache.spark.rdd.RDD.computeOrReadCheckpoint(RDD.scala:367)\r\n\tat org.apache.spark.rdd.RDD.iterator(RDD.scala:331)\r\n\tat org.apache.spark.scheduler.ResultTask.runTask(ResultTask.scala:93)\r\n\tat org.apache.spark.TaskContext.runTaskWithListeners(TaskContext.scala:166)\r\n\tat org.apache.spark.scheduler.Task.run(Task.scala:141)\r\n\tat org.apache.spark.executor.Executor$TaskRunner.$anonfun$run$4(Executor.scala:620)\r\n\tat org.apache.spark.util.SparkErrorUtils.tryWithSafeFinally(SparkErrorUtils.scala:64)\r\n\tat org.apache.spark.util.SparkErrorUtils.tryWithSafeFinally$(SparkErrorUtils.scala:61)\r\n\tat org.apache.spark.util.Utils$.tryWithSafeFinally(Utils.scala:94)\r\n\tat org.apache.spark.executor.Executor$TaskRunner.run(Executor.scala:623)\r\n\tat java.util.concurrent.ThreadPoolExecutor.runWorker(Unknown Source)\r\n\tat java.util.concurrent.ThreadPoolExecutor$Worker.run(Unknown Source)\r\n\t... 1 more\r\nCaused by: java.io.EOFException\r\n\tat java.io.DataInputStream.readInt(Unknown Source)\r\n\tat org.apache.spark.sql.execution.python.BasePythonUDFRunner$$anon$1.read(PythonUDFRunner.scala:83)\r\n\t... 24 more\r\n"
     ]
    }
   ],
   "source": [
    "df.show()"
   ]
  },
  {
   "cell_type": "code",
   "execution_count": null,
   "metadata": {},
   "outputs": [],
   "source": [
    "import time \n",
    "print(time.time())\n",
    "print(datetime.fromtimestamp(time.time()).strftime('%Y-%m-%d %H:%M:%S'))"
   ]
  },
  {
   "cell_type": "code",
   "execution_count": 77,
   "metadata": {},
   "outputs": [
    {
     "data": {
      "text/plain": [
       "pyspark.sql.column.Column"
      ]
     },
     "execution_count": 77,
     "metadata": {},
     "output_type": "execute_result"
    }
   ],
   "source": [
    "type(df.createdAt_float)"
   ]
  },
  {
   "cell_type": "code",
   "execution_count": 65,
   "metadata": {},
   "outputs": [
    {
     "name": "stdout",
     "output_type": "stream",
     "text": [
      "root\n",
      " |-- id: long (nullable = true)\n",
      " |-- ownerID: string (nullable = true)\n",
      " |-- userExternalID: string (nullable = true)\n",
      " |-- sourceID: long (nullable = true)\n",
      " |-- state: string (nullable = true)\n",
      " |-- _geoloc: struct (nullable = true)\n",
      " |    |-- lat: double (nullable = true)\n",
      " |    |-- lng: double (nullable = true)\n",
      " |-- geography: struct (nullable = true)\n",
      " |    |-- lat: double (nullable = true)\n",
      " |    |-- lng: double (nullable = true)\n",
      " |-- purpose: string (nullable = true)\n",
      " |-- price: double (nullable = true)\n",
      " |-- product: string (nullable = true)\n",
      " |-- productScore: long (nullable = true)\n",
      " |-- referenceNumber: string (nullable = true)\n",
      " |-- permitNumber: string (nullable = true)\n",
      " |-- title: string (nullable = true)\n",
      " |-- externalID: string (nullable = true)\n",
      " |-- slug: string (nullable = true)\n",
      " |-- slug_l1: string (nullable = true)\n",
      " |-- slug_l2: string (nullable = true)\n",
      " |-- slug_l3: string (nullable = true)\n",
      " |-- location: array (nullable = true)\n",
      " |    |-- element: struct (containsNull = true)\n",
      " |    |    |-- externalID: string (nullable = true)\n",
      " |    |    |-- id: long (nullable = true)\n",
      " |    |    |-- level: long (nullable = true)\n",
      " |    |    |-- name: string (nullable = true)\n",
      " |    |    |-- name_l1: string (nullable = true)\n",
      " |    |    |-- name_l2: string (nullable = true)\n",
      " |    |    |-- name_l3: string (nullable = true)\n",
      " |    |    |-- slug: string (nullable = true)\n",
      " |    |    |-- slug_l1: string (nullable = true)\n",
      " |    |    |-- slug_l2: string (nullable = true)\n",
      " |    |    |-- slug_l3: string (nullable = true)\n",
      " |    |    |-- type: string (nullable = true)\n",
      " |-- category: array (nullable = true)\n",
      " |    |-- element: struct (containsNull = true)\n",
      " |    |    |-- externalID: string (nullable = true)\n",
      " |    |    |-- id: long (nullable = true)\n",
      " |    |    |-- level: long (nullable = true)\n",
      " |    |    |-- name: string (nullable = true)\n",
      " |    |    |-- nameSingular: string (nullable = true)\n",
      " |    |    |-- nameSingular_l1: string (nullable = true)\n",
      " |    |    |-- nameSingular_l2: string (nullable = true)\n",
      " |    |    |-- nameSingular_l3: string (nullable = true)\n",
      " |    |    |-- name_l1: string (nullable = true)\n",
      " |    |    |-- name_l2: string (nullable = true)\n",
      " |    |    |-- name_l3: string (nullable = true)\n",
      " |    |    |-- slug: string (nullable = true)\n",
      " |    |    |-- slug_l1: string (nullable = true)\n",
      " |    |    |-- slug_l2: string (nullable = true)\n",
      " |    |    |-- slug_l3: string (nullable = true)\n",
      " |-- createdAt: double (nullable = true)\n",
      " |-- updatedAt: double (nullable = true)\n",
      " |-- reactivatedAt: double (nullable = true)\n",
      " |-- rooms: long (nullable = true)\n",
      " |-- baths: long (nullable = true)\n",
      " |-- area: double (nullable = true)\n",
      " |-- score: long (nullable = true)\n",
      " |-- score_l1: long (nullable = true)\n",
      " |-- score_l2: long (nullable = true)\n",
      " |-- score_l3: long (nullable = true)\n",
      " |-- phoneNumber: struct (nullable = true)\n",
      " |    |-- mobile: string (nullable = true)\n",
      " |    |-- mobileNumbers: array (nullable = true)\n",
      " |    |    |-- element: string (containsNull = true)\n",
      " |    |-- phone: string (nullable = true)\n",
      " |    |-- phoneNumbers: array (nullable = true)\n",
      " |    |    |-- element: string (containsNull = true)\n",
      " |    |-- proxyMobile: string (nullable = true)\n",
      " |    |-- proxyPhone: string (nullable = true)\n",
      " |    |-- whatsapp: string (nullable = true)\n",
      " |-- contactName: string (nullable = true)\n",
      " |-- agency: struct (nullable = true)\n",
      " |    |-- active: boolean (nullable = true)\n",
      " |    |-- commercialNumber: integer (nullable = true)\n",
      " |    |-- createdAt: string (nullable = true)\n",
      " |    |-- externalID: string (nullable = true)\n",
      " |    |-- id: long (nullable = true)\n",
      " |    |-- licenses: array (nullable = true)\n",
      " |    |    |-- element: struct (containsNull = true)\n",
      " |    |    |    |-- authority: string (nullable = true)\n",
      " |    |    |    |-- number: string (nullable = true)\n",
      " |    |-- logo: struct (nullable = true)\n",
      " |    |    |-- id: long (nullable = true)\n",
      " |    |    |-- url: string (nullable = true)\n",
      " |    |-- name: string (nullable = true)\n",
      " |    |-- name_l1: string (nullable = true)\n",
      " |    |-- name_l2: string (nullable = true)\n",
      " |    |-- name_l3: string (nullable = true)\n",
      " |    |-- objectID: long (nullable = true)\n",
      " |    |-- performanceCohort: string (nullable = true)\n",
      " |    |-- product: string (nullable = true)\n",
      " |    |-- productScore: long (nullable = true)\n",
      " |    |-- roles: array (nullable = true)\n",
      " |    |    |-- element: integer (containsNull = true)\n",
      " |    |-- shortNumber: integer (nullable = true)\n",
      " |    |-- slug: string (nullable = true)\n",
      " |    |-- slug_l1: string (nullable = true)\n",
      " |    |-- slug_l2: string (nullable = true)\n",
      " |    |-- slug_l3: string (nullable = true)\n",
      " |    |-- tier: long (nullable = true)\n",
      " |    |-- tr: long (nullable = true)\n",
      " |-- hash: string (nullable = true)\n",
      " |-- keywords: array (nullable = true)\n",
      " |    |-- element: string (containsNull = true)\n",
      " |-- isVerified: boolean (nullable = true)\n",
      " |-- verification: struct (nullable = true)\n",
      " |    |-- eligible: boolean (nullable = true)\n",
      " |    |-- status: string (nullable = true)\n",
      " |    |-- trucheckedAt: double (nullable = true)\n",
      " |    |-- updatedAt: double (nullable = true)\n",
      " |    |-- verifiedAt: double (nullable = true)\n",
      " |-- verifiedScore: long (nullable = true)\n",
      " |-- furnishingStatus: string (nullable = true)\n",
      " |-- type: string (nullable = true)\n",
      " |-- ownerAgent: struct (nullable = true)\n",
      " |    |-- externalID: string (nullable = true)\n",
      " |    |-- isTruBroker: boolean (nullable = true)\n",
      " |    |-- name: string (nullable = true)\n",
      " |    |-- name_l1: string (nullable = true)\n",
      " |    |-- name_l2: string (nullable = true)\n",
      " |    |-- name_l3: string (nullable = true)\n",
      " |    |-- slug: string (nullable = true)\n",
      " |    |-- slug_l1: string (nullable = true)\n",
      " |    |-- slug_l2: string (nullable = true)\n",
      " |    |-- slug_l3: string (nullable = true)\n",
      " |    |-- user_image: string (nullable = true)\n",
      " |    |-- user_image_id: long (nullable = true)\n",
      " |-- amenities: array (nullable = true)\n",
      " |    |-- element: string (containsNull = true)\n",
      " |-- completionStatus: string (nullable = true)\n",
      " |-- cityLevelScore: long (nullable = true)\n",
      " |-- hasMatchingFloorPlans: boolean (nullable = true)\n",
      " |-- hidePrice: boolean (nullable = true)\n",
      " |-- locationPurposeTier: long (nullable = true)\n",
      " |-- plotArea: integer (nullable = true)\n",
      " |-- objectID: string (nullable = true)\n",
      " |-- _highlightResult: struct (nullable = true)\n",
      " |    |-- agency: struct (nullable = true)\n",
      " |    |    |-- name: struct (nullable = true)\n",
      " |    |    |    |-- matchLevel: string (nullable = true)\n",
      " |    |    |    |-- matchedWords: array (nullable = true)\n",
      " |    |    |    |    |-- element: integer (containsNull = true)\n",
      " |    |    |    |-- value: string (nullable = true)\n",
      " |    |    |-- name_l1: struct (nullable = true)\n",
      " |    |    |    |-- matchLevel: string (nullable = true)\n",
      " |    |    |    |-- matchedWords: array (nullable = true)\n",
      " |    |    |    |    |-- element: integer (containsNull = true)\n",
      " |    |    |    |-- value: string (nullable = true)\n",
      " |    |    |-- name_l2: struct (nullable = true)\n",
      " |    |    |    |-- matchLevel: string (nullable = true)\n",
      " |    |    |    |-- matchedWords: array (nullable = true)\n",
      " |    |    |    |    |-- element: integer (containsNull = true)\n",
      " |    |    |    |-- value: string (nullable = true)\n",
      " |    |    |-- name_l3: struct (nullable = true)\n",
      " |    |    |    |-- matchLevel: string (nullable = true)\n",
      " |    |    |    |-- matchedWords: array (nullable = true)\n",
      " |    |    |    |    |-- element: integer (containsNull = true)\n",
      " |    |    |    |-- value: string (nullable = true)\n",
      " |    |-- externalID: struct (nullable = true)\n",
      " |    |    |-- matchLevel: string (nullable = true)\n",
      " |    |    |-- matchedWords: array (nullable = true)\n",
      " |    |    |    |-- element: integer (containsNull = true)\n",
      " |    |    |-- value: string (nullable = true)\n",
      " |    |-- keywords: array (nullable = true)\n",
      " |    |    |-- element: struct (containsNull = true)\n",
      " |    |    |    |-- matchLevel: string (nullable = true)\n",
      " |    |    |    |-- matchedWords: array (nullable = true)\n",
      " |    |    |    |    |-- element: integer (containsNull = true)\n",
      " |    |    |    |-- value: string (nullable = true)\n",
      " |    |-- referenceNumber: struct (nullable = true)\n",
      " |    |    |-- matchLevel: string (nullable = true)\n",
      " |    |    |-- matchedWords: array (nullable = true)\n",
      " |    |    |    |-- element: integer (containsNull = true)\n",
      " |    |    |-- value: string (nullable = true)\n",
      " |    |-- title: struct (nullable = true)\n",
      " |    |    |-- matchLevel: string (nullable = true)\n",
      " |    |    |-- matchedWords: array (nullable = true)\n",
      " |    |    |    |-- element: integer (containsNull = true)\n",
      " |    |    |-- value: string (nullable = true)\n",
      " |    |-- title_l1: struct (nullable = true)\n",
      " |    |    |-- matchLevel: string (nullable = true)\n",
      " |    |    |-- matchedWords: array (nullable = true)\n",
      " |    |    |    |-- element: integer (containsNull = true)\n",
      " |    |    |-- value: string (nullable = true)\n",
      " |    |-- title_l2: struct (nullable = true)\n",
      " |    |    |-- matchLevel: string (nullable = true)\n",
      " |    |    |-- matchedWords: array (nullable = true)\n",
      " |    |    |    |-- element: integer (containsNull = true)\n",
      " |    |    |-- value: string (nullable = true)\n",
      " |    |-- title_l3: struct (nullable = true)\n",
      " |    |    |-- matchLevel: string (nullable = true)\n",
      " |    |    |-- matchedWords: array (nullable = true)\n",
      " |    |    |    |-- element: integer (containsNull = true)\n",
      " |    |    |-- value: string (nullable = true)\n",
      " |-- project: struct (nullable = true)\n",
      " |    |-- externalID: string (nullable = true)\n",
      " |    |-- id: long (nullable = true)\n",
      " |-- offplanDetails: struct (nullable = true)\n",
      " |    |-- dldWaiver: integer (nullable = true)\n",
      " |    |-- originalPrice: integer (nullable = true)\n",
      " |    |-- paidPrice: integer (nullable = true)\n",
      " |    |-- saleType: string (nullable = true)\n",
      " |-- completionDetails: struct (nullable = true)\n",
      " |    |-- completionDate: double (nullable = true)\n",
      " |    |-- completionPercentage: double (nullable = true)\n",
      " |    |-- startDate: double (nullable = true)\n",
      " |-- paymentPlanSummaries: array (nullable = true)\n",
      " |    |-- element: struct (containsNull = true)\n",
      " |    |    |-- breakdown: struct (nullable = true)\n",
      " |    |    |    |-- downPaymentPercentage: long (nullable = true)\n",
      " |    |    |    |-- handoverPercentage: long (nullable = true)\n",
      " |    |    |    |-- postHandoverPercentage: long (nullable = true)\n",
      " |    |    |    |-- preHandoverPercentage: long (nullable = true)\n",
      " |    |    |-- postHandoverPercentageSum: long (nullable = true)\n",
      " |    |    |-- preHandoverPercentageSum: long (nullable = true)\n",
      " |-- hasTransactionHistory: boolean (nullable = true)\n",
      " |-- hasDldBuildingNk: boolean (nullable = true)\n",
      " |-- availabilityStatus: string (nullable = true)\n",
      " |-- occupancyStatus: string (nullable = true)\n",
      " |-- createdAt_float: float (nullable = true)\n",
      "\n"
     ]
    }
   ],
   "source": [
    "df.printSchema()"
   ]
  },
  {
   "cell_type": "code",
   "execution_count": 84,
   "metadata": {},
   "outputs": [
    {
     "name": "stderr",
     "output_type": "stream",
     "text": [
      "C:\\Users\\hadi hashemi\\AppData\\Local\\Temp\\ipykernel_15392\\1152456848.py:1: DeprecationWarning: datetime.datetime.utcfromtimestamp() is deprecated and scheduled for removal in a future version. Use timezone-aware objects to represent datetimes in UTC: datetime.datetime.fromtimestamp(timestamp, datetime.UTC).\n",
      "  type(datetime.datetime.utcfromtimestamp(1.71445837E9).strftime('%Y-%m-%d %H:%M:%S'))\n"
     ]
    },
    {
     "data": {
      "text/plain": [
       "str"
      ]
     },
     "execution_count": 84,
     "metadata": {},
     "output_type": "execute_result"
    }
   ],
   "source": [
    "type(datetime.datetime.utcfromtimestamp(1.71445837E9).strftime('%Y-%m-%d %H:%M:%S'))"
   ]
  },
  {
   "cell_type": "code",
   "execution_count": 79,
   "metadata": {},
   "outputs": [
    {
     "ename": "TypeError",
     "evalue": "'Column' object cannot be interpreted as an integer",
     "output_type": "error",
     "traceback": [
      "\u001b[1;31m---------------------------------------------------------------------------\u001b[0m",
      "\u001b[1;31mTypeError\u001b[0m                                 Traceback (most recent call last)",
      "Cell \u001b[1;32mIn[79], line 1\u001b[0m\n\u001b[1;32m----> 1\u001b[0m \u001b[43mtime_fix\u001b[49m\u001b[43m(\u001b[49m\u001b[43mdf\u001b[49m\u001b[38;5;241;43m.\u001b[39;49m\u001b[43mcreatedAt_float\u001b[49m\u001b[43m)\u001b[49m\n",
      "Cell \u001b[1;32mIn[66], line 2\u001b[0m, in \u001b[0;36mtime_fix\u001b[1;34m(time_col)\u001b[0m\n\u001b[0;32m      1\u001b[0m \u001b[38;5;28;01mdef\u001b[39;00m \u001b[38;5;21mtime_fix\u001b[39m(time_col):\n\u001b[1;32m----> 2\u001b[0m     \u001b[38;5;28;01mreturn\u001b[39;00m \u001b[43mdatetime\u001b[49m\u001b[38;5;241;43m.\u001b[39;49m\u001b[43mdatetime\u001b[49m\u001b[38;5;241;43m.\u001b[39;49m\u001b[43mfromtimestamp\u001b[49m\u001b[43m(\u001b[49m\u001b[43mtime_col\u001b[49m\u001b[43m)\u001b[49m\u001b[38;5;241m.\u001b[39mstrftime(\u001b[38;5;124m'\u001b[39m\u001b[38;5;124m%\u001b[39m\u001b[38;5;124mY-\u001b[39m\u001b[38;5;124m%\u001b[39m\u001b[38;5;124mm-\u001b[39m\u001b[38;5;132;01m%d\u001b[39;00m\u001b[38;5;124m \u001b[39m\u001b[38;5;124m%\u001b[39m\u001b[38;5;124mH:\u001b[39m\u001b[38;5;124m%\u001b[39m\u001b[38;5;124mM:\u001b[39m\u001b[38;5;124m%\u001b[39m\u001b[38;5;124mS\u001b[39m\u001b[38;5;124m'\u001b[39m)\n",
      "\u001b[1;31mTypeError\u001b[0m: 'Column' object cannot be interpreted as an integer"
     ]
    }
   ],
   "source": [
    "time_fix(df.createdAt_float)"
   ]
  }
 ],
 "metadata": {
  "kernelspec": {
   "display_name": "Python 3",
   "language": "python",
   "name": "python3"
  },
  "language_info": {
   "codemirror_mode": {
    "name": "ipython",
    "version": 3
   },
   "file_extension": ".py",
   "mimetype": "text/x-python",
   "name": "python",
   "nbconvert_exporter": "python",
   "pygments_lexer": "ipython3",
   "version": "3.12.3"
  }
 },
 "nbformat": 4,
 "nbformat_minor": 2
}
