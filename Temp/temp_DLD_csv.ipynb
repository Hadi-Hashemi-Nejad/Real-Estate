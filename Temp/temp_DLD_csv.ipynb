{
 "cells": [
  {
   "cell_type": "code",
   "execution_count": 1,
   "metadata": {},
   "outputs": [],
   "source": [
    "import requests\n",
    "from io import BytesIO\n",
    "import pandas as pd\n",
    "pd.set_option('display.max_columns', None)"
   ]
  },
  {
   "cell_type": "code",
   "execution_count": 3,
   "metadata": {},
   "outputs": [],
   "source": [
    "url = 'https://www.dubaipulse.gov.ae/dataset/3b25a6f5-9077-49d7-8a1e-bc6d5dea88fd/resource/a37511b0-ea36-485d-bccd-2d6cb24507e7/download/transactions.csv'\n",
    "r1 = requests.get(url)\n",
    "tr = pd.read_csv(BytesIO(r1.content))\n",
    "\n",
    "\n",
    "# url2 = 'https://www.dubaipulse.gov.ae/dataset/85462a5b-08dc-4325-9242-676a0de4afc4/resource/7d4deadf-c9bc-47a4-85de-998d0ce38bf3/download/units.csv'\n",
    "# r2 = requests.get(url2)\n",
    "# un = pd.read_csv(BytesIO(r2.content))"
   ]
  },
  {
   "cell_type": "code",
   "execution_count": 7,
   "metadata": {},
   "outputs": [],
   "source": [
    "tr['instance_date'] = pd.to_datetime(tr['instance_date'],errors='coerce', format=\"%d-%m-%Y\")\n",
    "tr = tr.sort_values(\"instance_date\", ascending=False)\n",
    "\n",
    "useful_cols = [\"instance_date\",\"building_name_en\",\"procedure_area\",\"actual_worth\",\"rooms_en\",\"area_name_en\",\"master_project_en\",\"procedure_name_en\",\"trans_group_en\",\n",
    "               \"property_type_en\",\"property_sub_type_en\",\"property_usage_en\",\"reg_type_en\"]\n",
    "tr = tr[useful_cols]"
   ]
  },
  {
   "cell_type": "code",
   "execution_count": 11,
   "metadata": {},
   "outputs": [],
   "source": [
    "tr"
   ]
  },
  {
   "cell_type": "code",
   "execution_count": 21,
   "metadata": {},
   "outputs": [],
   "source": [
    "import pyarrow as pa\n"
   ]
  },
  {
   "cell_type": "code",
   "execution_count": 22,
   "metadata": {},
   "outputs": [],
   "source": [
    "transactions_table = pa.csv.read_csv(BytesIO(r1.content))"
   ]
  }
 ],
 "metadata": {
  "kernelspec": {
   "display_name": "Python 3",
   "language": "python",
   "name": "python3"
  },
  "language_info": {
   "codemirror_mode": {
    "name": "ipython",
    "version": 3
   },
   "file_extension": ".py",
   "mimetype": "text/x-python",
   "name": "python",
   "nbconvert_exporter": "python",
   "pygments_lexer": "ipython3",
   "version": "3.12.3"
  }
 },
 "nbformat": 4,
 "nbformat_minor": 2
}
